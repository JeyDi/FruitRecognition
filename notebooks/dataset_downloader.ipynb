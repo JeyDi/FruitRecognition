{
 "cells": [
  {
   "cell_type": "code",
   "execution_count": 1,
   "metadata": {},
   "outputs": [],
   "source": [
    "#Load Libraries\n",
    "import numpy as np\n",
    "import pandas as pd\n",
    "import os\n",
    "import zipfile\n",
    "import json\n",
    "\n",
    "#install python libraries from notebooks"
   ]
  },
  {
   "cell_type": "code",
   "execution_count": 2,
   "metadata": {},
   "outputs": [],
   "source": [
    "def readKaggleConfig(name = None, path = None):\n",
    "    \"\"\"\n",
    "    Function to read kaggle.json config file obtained from kaggle\n",
    "    Need to load the username and the key to use the service and api to download datasets\n",
    "    \"\"\"\n",
    "    result = False\n",
    "    \n",
    "    #Check the path of the kaggle config file\n",
    "    if path is None:\n",
    "        path = \"../\"\n",
    "        if name is None:\n",
    "            name = \"kaggle.json\"\n",
    "            \n",
    "    file_path = os.path.join(path,name)\n",
    "    \n",
    "    #Read JSON data into the kaggle_config variable\n",
    "    if file_path:\n",
    "        with open(file_path, 'r') as f:\n",
    "            kaggle_config = json.load(f)\n",
    "    \n",
    "    try:\n",
    "        os.environ['KAGGLE_USERNAME'] = kaggle_config[\"username\"]\n",
    "        os.environ['KAGGLE_KEY'] = kaggle_config[\"key\"]\n",
    "        result = True\n",
    "    except:\n",
    "        print(\"error setting the kaggle environment variables\")\n",
    "        result = False\n",
    "    \n",
    "    #Import kaggle libraries after read the config\n",
    "    import kaggle\n",
    "    \n",
    "    return result\n",
    "    "
   ]
  },
  {
   "cell_type": "code",
   "execution_count": 7,
   "metadata": {},
   "outputs": [],
   "source": [
    "#Kaggle dataset downloader\n",
    "\n",
    "def downloadDataset(downloadPath = None, datasetName = None):\n",
    "    import kaggle\n",
    "    \"\"\"\n",
    "    Download a kaggle dataset using kaggle api\n",
    "    Need to use the read Kaggle config before to read and configure api keys\n",
    "    InputParameters:\n",
    "    - downloadPath = where you want to download your dataset\n",
    "    - datasetName = kaggle name of your dataset\n",
    "    \"\"\"\n",
    "    result = False\n",
    "    \n",
    "    if datasetName is None:\n",
    "        datasetName = 'moltean/fruits'\n",
    "    \n",
    "    if downloadPath is None: \n",
    "        #set the scope to the main project folder\n",
    "        downloadPath = '../'\n",
    "    \n",
    "  \n",
    "    try:\n",
    "        kaggle.api.authenticate()\n",
    "        kaggle.api.dataset_download_files(datasetName, path=downloadPath, unzip=True)\n",
    "        result = True\n",
    "    except:\n",
    "        print(\"Error downloading the dataset, please retry..\")\n",
    "        result = False\n",
    "    \n",
    "    return result"
   ]
  },
  {
   "cell_type": "code",
   "execution_count": 5,
   "metadata": {},
   "outputs": [
    {
     "data": {
      "text/plain": [
       "True"
      ]
     },
     "execution_count": 5,
     "metadata": {},
     "output_type": "execute_result"
    }
   ],
   "source": [
    "#Documentation: https://www.kaggle.com/mchirico/how-to-read-datasets\n",
    "#Configure the kaggle api and download the dataset\n",
    "readKaggleConfig()\n",
    "\n"
   ]
  },
  {
   "cell_type": "code",
   "execution_count": 8,
   "metadata": {},
   "outputs": [
    {
     "data": {
      "text/plain": [
       "True"
      ]
     },
     "execution_count": 8,
     "metadata": {},
     "output_type": "execute_result"
    }
   ],
   "source": [
    "downloadDataset(datasetName = 'moltean/fruits')"
   ]
  }
 ],
 "metadata": {
  "kernelspec": {
   "display_name": "Python 3",
   "language": "python",
   "name": "python3"
  },
  "language_info": {
   "codemirror_mode": {
    "name": "ipython",
    "version": 3
   },
   "file_extension": ".py",
   "mimetype": "text/x-python",
   "name": "python",
   "nbconvert_exporter": "python",
   "pygments_lexer": "ipython3",
   "version": "3.6.8"
  }
 },
 "nbformat": 4,
 "nbformat_minor": 2
}
