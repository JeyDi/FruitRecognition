{
 "cells": [
  {
   "cell_type": "markdown",
   "metadata": {},
   "source": [
    "# Experiment 2\n",
    "---------------\n",
    "Test 2: Custom transfer learning model freezing Inception V3"
   ]
  },
  {
   "cell_type": "markdown",
   "metadata": {},
   "source": [
    "Reshape data"
   ]
  },
  {
   "cell_type": "code",
   "execution_count": 6,
   "metadata": {},
   "outputs": [
    {
     "name": "stdout",
     "output_type": "stream",
     "text": [
      "System version\n",
      " 3.6.8 |Anaconda, Inc.| (default, Feb 21 2019, 18:30:04) [MSC v.1916 64 bit (AMD64)]\n",
      "\n",
      "Your Device List:\n",
      " [name: \"/device:CPU:0\"\n",
      "device_type: \"CPU\"\n",
      "memory_limit: 268435456\n",
      "locality {\n",
      "}\n",
      "incarnation: 11280467363552761281\n",
      ", name: \"/device:GPU:0\"\n",
      "device_type: \"GPU\"\n",
      "memory_limit: 6700198133\n",
      "locality {\n",
      "  bus_id: 1\n",
      "  links {\n",
      "  }\n",
      "}\n",
      "incarnation: 17276579516891793104\n",
      "physical_device_desc: \"device: 0, name: GeForce GTX 1070, pci bus id: 0000:01:00.0, compute capability: 6.1\"\n",
      "]\n"
     ]
    }
   ],
   "source": [
    "%run ./prepare_dataset.ipynb"
   ]
  },
  {
   "cell_type": "code",
   "execution_count": 7,
   "metadata": {},
   "outputs": [
    {
     "name": "stdout",
     "output_type": "stream",
     "text": [
      "\n",
      "Image Width: 299\n",
      "Image Height: 299\n",
      "Image Size: 299\n",
      "Batch Size: 16\n",
      "\n",
      "Train dir: ../fruits-360/Training/\n",
      "Test dir: ../fruits-360/Test/\n",
      "\n",
      "Import Trainingset\n",
      "Found 53177 images belonging to 103 classes.\n",
      "\n",
      "Import Validationset\n",
      "Found 17845 images belonging to 103 classes.\n",
      "\n",
      "Train Samples:  53177\n",
      "Train Classes: 103\n",
      "Class Indexes:\n",
      " {'Apple Braeburn': 0, 'Apple Crimson Snow': 1, 'Apple Golden 1': 2, 'Apple Golden 2': 3, 'Apple Golden 3': 4, 'Apple Granny Smith': 5, 'Apple Pink Lady': 6, 'Apple Red 1': 7, 'Apple Red 2': 8, 'Apple Red 3': 9, 'Apple Red Delicious': 10, 'Apple Red Yellow 1': 11, 'Apple Red Yellow 2': 12, 'Apricot': 13, 'Avocado': 14, 'Avocado ripe': 15, 'Banana': 16, 'Banana Lady Finger': 17, 'Banana Red': 18, 'Cactus fruit': 19, 'Cantaloupe 1': 20, 'Cantaloupe 2': 21, 'Carambula': 22, 'Cherry 1': 23, 'Cherry 2': 24, 'Cherry Rainier': 25, 'Cherry Wax Black': 26, 'Cherry Wax Red': 27, 'Cherry Wax Yellow': 28, 'Chestnut': 29, 'Clementine': 30, 'Cocos': 31, 'Dates': 32, 'Granadilla': 33, 'Grape Blue': 34, 'Grape Pink': 35, 'Grape White': 36, 'Grape White 2': 37, 'Grape White 3': 38, 'Grape White 4': 39, 'Grapefruit Pink': 40, 'Grapefruit White': 41, 'Guava': 42, 'Hazelnut': 43, 'Huckleberry': 44, 'Kaki': 45, 'Kiwi': 46, 'Kohlrabi': 47, 'Kumquats': 48, 'Lemon': 49, 'Lemon Meyer': 50, 'Limes': 51, 'Lychee': 52, 'Mandarine': 53, 'Mango': 54, 'Mangostan': 55, 'Maracuja': 56, 'Melon Piel de Sapo': 57, 'Mulberry': 58, 'Nectarine': 59, 'Orange': 60, 'Papaya': 61, 'Passion Fruit': 62, 'Peach': 63, 'Peach 2': 64, 'Peach Flat': 65, 'Pear': 66, 'Pear Abate': 67, 'Pear Kaiser': 68, 'Pear Monster': 69, 'Pear Red': 70, 'Pear Williams': 71, 'Pepino': 72, 'Pepper Green': 73, 'Pepper Red': 74, 'Pepper Yellow': 75, 'Physalis': 76, 'Physalis with Husk': 77, 'Pineapple': 78, 'Pineapple Mini': 79, 'Pitahaya Red': 80, 'Plum': 81, 'Plum 2': 82, 'Plum 3': 83, 'Pomegranate': 84, 'Pomelo Sweetie': 85, 'Quince': 86, 'Rambutan': 87, 'Raspberry': 88, 'Redcurrant': 89, 'Salak': 90, 'Strawberry': 91, 'Strawberry Wedge': 92, 'Tamarillo': 93, 'Tangelo': 94, 'Tomato 1': 95, 'Tomato 2': 96, 'Tomato 3': 97, 'Tomato 4': 98, 'Tomato Cherry Red': 99, 'Tomato Maroon': 100, 'Tomato Yellow': 101, 'Walnut': 102}\n",
      "\n",
      "Validation Samples:  17845\n",
      "\n",
      "Train Classes: 103\n",
      "\n",
      "Class Indexes:\n",
      " {'Apple Braeburn': 0, 'Apple Crimson Snow': 1, 'Apple Golden 1': 2, 'Apple Golden 2': 3, 'Apple Golden 3': 4, 'Apple Granny Smith': 5, 'Apple Pink Lady': 6, 'Apple Red 1': 7, 'Apple Red 2': 8, 'Apple Red 3': 9, 'Apple Red Delicious': 10, 'Apple Red Yellow 1': 11, 'Apple Red Yellow 2': 12, 'Apricot': 13, 'Avocado': 14, 'Avocado ripe': 15, 'Banana': 16, 'Banana Lady Finger': 17, 'Banana Red': 18, 'Cactus fruit': 19, 'Cantaloupe 1': 20, 'Cantaloupe 2': 21, 'Carambula': 22, 'Cherry 1': 23, 'Cherry 2': 24, 'Cherry Rainier': 25, 'Cherry Wax Black': 26, 'Cherry Wax Red': 27, 'Cherry Wax Yellow': 28, 'Chestnut': 29, 'Clementine': 30, 'Cocos': 31, 'Dates': 32, 'Granadilla': 33, 'Grape Blue': 34, 'Grape Pink': 35, 'Grape White': 36, 'Grape White 2': 37, 'Grape White 3': 38, 'Grape White 4': 39, 'Grapefruit Pink': 40, 'Grapefruit White': 41, 'Guava': 42, 'Hazelnut': 43, 'Huckleberry': 44, 'Kaki': 45, 'Kiwi': 46, 'Kohlrabi': 47, 'Kumquats': 48, 'Lemon': 49, 'Lemon Meyer': 50, 'Limes': 51, 'Lychee': 52, 'Mandarine': 53, 'Mango': 54, 'Mangostan': 55, 'Maracuja': 56, 'Melon Piel de Sapo': 57, 'Mulberry': 58, 'Nectarine': 59, 'Orange': 60, 'Papaya': 61, 'Passion Fruit': 62, 'Peach': 63, 'Peach 2': 64, 'Peach Flat': 65, 'Pear': 66, 'Pear Abate': 67, 'Pear Kaiser': 68, 'Pear Monster': 69, 'Pear Red': 70, 'Pear Williams': 71, 'Pepino': 72, 'Pepper Green': 73, 'Pepper Red': 74, 'Pepper Yellow': 75, 'Physalis': 76, 'Physalis with Husk': 77, 'Pineapple': 78, 'Pineapple Mini': 79, 'Pitahaya Red': 80, 'Plum': 81, 'Plum 2': 82, 'Plum 3': 83, 'Pomegranate': 84, 'Pomelo Sweetie': 85, 'Quince': 86, 'Rambutan': 87, 'Raspberry': 88, 'Redcurrant': 89, 'Salak': 90, 'Strawberry': 91, 'Strawberry Wedge': 92, 'Tamarillo': 93, 'Tangelo': 94, 'Tomato 1': 95, 'Tomato 2': 96, 'Tomato 3': 97, 'Tomato 4': 98, 'Tomato Cherry Red': 99, 'Tomato Maroon': 100, 'Tomato Yellow': 101, 'Walnut': 102}\n"
     ]
    },
    {
     "data": {
      "text/plain": [
       "(53177, 103, 17845, 103)"
      ]
     },
     "execution_count": 7,
     "metadata": {},
     "output_type": "execute_result"
    }
   ],
   "source": [
    "img_width, img_height, img_size, batch_size =  prepareConstants(299 ,299,299,16)\n",
    "train_data_dir, validation_data_dir = setDirs()\n",
    "train_generator, validation_generator = prepareDatasets(train_data_dir,validation_data_dir,img_width,img_height,batch_size)\n",
    "checkData(train_generator,validation_generator)"
   ]
  },
  {
   "cell_type": "code",
   "execution_count": 8,
   "metadata": {},
   "outputs": [],
   "source": [
    "#import inception with pre-trained weights. do not include fully #connected layers\n",
    "inception = applications.inception_v3.InceptionV3(include_top=False, weights='imagenet', input_shape=(img_width, img_height, 3))"
   ]
  },
  {
   "cell_type": "markdown",
   "metadata": {},
   "source": [
    "Freeze Layers"
   ]
  },
  {
   "cell_type": "code",
   "execution_count": 9,
   "metadata": {},
   "outputs": [
    {
     "name": "stdout",
     "output_type": "stream",
     "text": [
      "<keras.engine.input_layer.InputLayer object at 0x0000021C5F997780> False\n",
      "<keras.layers.convolutional.Conv2D object at 0x0000021C5F997F60> False\n",
      "<keras.layers.normalization.BatchNormalization object at 0x0000021C5F997978> False\n",
      "<keras.layers.core.Activation object at 0x0000021C5F997A90> False\n",
      "<keras.layers.convolutional.Conv2D object at 0x0000021C5F9D8F98> False\n",
      "<keras.layers.normalization.BatchNormalization object at 0x0000021C5FA047F0> False\n",
      "<keras.layers.core.Activation object at 0x0000021C5FE56F98> False\n",
      "<keras.layers.convolutional.Conv2D object at 0x0000021C6008CF28> False\n",
      "<keras.layers.normalization.BatchNormalization object at 0x0000021C60069A58> False\n",
      "<keras.layers.core.Activation object at 0x0000021C60053AC8> False\n",
      "<keras.layers.pooling.MaxPooling2D object at 0x0000021C60129940> False\n",
      "<keras.layers.convolutional.Conv2D object at 0x0000021C60129B00> False\n",
      "<keras.layers.normalization.BatchNormalization object at 0x0000021C60167908> False\n",
      "<keras.layers.core.Activation object at 0x0000021C601676D8> False\n",
      "<keras.layers.convolutional.Conv2D object at 0x0000021C602A6E80> False\n",
      "<keras.layers.normalization.BatchNormalization object at 0x0000021C6026DEB8> False\n",
      "<keras.layers.core.Activation object at 0x0000021C60284F98> False\n",
      "<keras.layers.pooling.MaxPooling2D object at 0x0000021C603CD4E0> False\n",
      "<keras.layers.convolutional.Conv2D object at 0x0000021C6068FF28> False\n",
      "<keras.layers.normalization.BatchNormalization object at 0x0000021C606DEA58> False\n",
      "<keras.layers.core.Activation object at 0x0000021C606C22E8> False\n",
      "<keras.layers.convolutional.Conv2D object at 0x0000021C604ECEB8> False\n",
      "<keras.layers.convolutional.Conv2D object at 0x0000021C606F9D68> False\n",
      "<keras.layers.normalization.BatchNormalization object at 0x0000021C604C9B38> False\n",
      "<keras.layers.normalization.BatchNormalization object at 0x0000021C60822AC8> False\n",
      "<keras.layers.core.Activation object at 0x0000021C60567860> False\n",
      "<keras.layers.core.Activation object at 0x0000021C6080AB38> False\n",
      "<keras.layers.pooling.AveragePooling2D object at 0x0000021C60A6A3C8> False\n",
      "<keras.layers.convolutional.Conv2D object at 0x0000021C603738D0> False\n",
      "<keras.layers.convolutional.Conv2D object at 0x0000021C60597DD8> False\n",
      "<keras.layers.convolutional.Conv2D object at 0x0000021C60944748> False\n",
      "<keras.layers.convolutional.Conv2D object at 0x0000021C609DE5F8> False\n",
      "<keras.layers.normalization.BatchNormalization object at 0x0000021C603AB7F0> False\n",
      "<keras.layers.normalization.BatchNormalization object at 0x0000021C605BAEB8> False\n",
      "<keras.layers.normalization.BatchNormalization object at 0x0000021C60908EF0> False\n",
      "<keras.layers.normalization.BatchNormalization object at 0x0000021C60AEBF28> False\n",
      "<keras.layers.core.Activation object at 0x0000021C60470908> False\n",
      "<keras.layers.core.Activation object at 0x0000021C605D5D68> False\n",
      "<keras.layers.core.Activation object at 0x0000021C609275C0> False\n",
      "<keras.layers.core.Activation object at 0x0000021C60A2F7B8> False\n",
      "<keras.layers.merge.Concatenate object at 0x0000021C60B92C50> False\n",
      "<keras.layers.convolutional.Conv2D object at 0x0000021C60E5D2E8> False\n",
      "<keras.layers.normalization.BatchNormalization object at 0x0000021C60EDFEF0> False\n",
      "<keras.layers.core.Activation object at 0x0000021C60F5C6D8> False\n",
      "<keras.layers.convolutional.Conv2D object at 0x0000021C60C36048> False\n",
      "<keras.layers.convolutional.Conv2D object at 0x0000021C60F85DA0> False\n",
      "<keras.layers.normalization.BatchNormalization object at 0x0000021C60C90CF8> False\n",
      "<keras.layers.normalization.BatchNormalization object at 0x0000021C60FA7F60> False\n",
      "<keras.layers.core.Activation object at 0x0000021C60D32358> False\n",
      "<keras.layers.core.Activation object at 0x0000021C60FC7630> False\n",
      "<keras.layers.pooling.AveragePooling2D object at 0x0000021C6122DCC0> False\n",
      "<keras.layers.convolutional.Conv2D object at 0x0000021C60B0FA58> False\n",
      "<keras.layers.convolutional.Conv2D object at 0x0000021C60C79898> False\n",
      "<keras.layers.convolutional.Conv2D object at 0x0000021C6110F518> False\n",
      "<keras.layers.convolutional.Conv2D object at 0x0000021C611AC438> False\n",
      "<keras.layers.normalization.BatchNormalization object at 0x0000021C60C0B2E8> False\n",
      "<keras.layers.normalization.BatchNormalization object at 0x0000021C60D7CAC8> False\n",
      "<keras.layers.normalization.BatchNormalization object at 0x0000021C610D2CF8> False\n",
      "<keras.layers.normalization.BatchNormalization object at 0x0000021C612A96D8> False\n",
      "<keras.layers.core.Activation object at 0x0000021C60B561D0> False\n",
      "<keras.layers.core.Activation object at 0x0000021C60D9E9B0> False\n",
      "<keras.layers.core.Activation object at 0x0000021C610ED6A0> False\n",
      "<keras.layers.core.Activation object at 0x0000021C611F5828> False\n",
      "<keras.layers.merge.Concatenate object at 0x0000021C612D7668> False\n",
      "<keras.layers.convolutional.Conv2D object at 0x0000021C616A0C50> False\n",
      "<keras.layers.normalization.BatchNormalization object at 0x0000021C6167D550> False\n",
      "<keras.layers.core.Activation object at 0x0000021C6171AEB8> False\n",
      "<keras.layers.convolutional.Conv2D object at 0x0000021C613F5BA8> False\n",
      "<keras.layers.convolutional.Conv2D object at 0x0000021C617A5780> False\n",
      "<keras.layers.normalization.BatchNormalization object at 0x0000021C61418EF0> False\n",
      "<keras.layers.normalization.BatchNormalization object at 0x0000021C61766EF0> False\n",
      "<keras.layers.core.Activation object at 0x0000021C614EFF28> False\n",
      "<keras.layers.core.Activation object at 0x0000021C617875C0> False\n",
      "<keras.layers.pooling.AveragePooling2D object at 0x0000021C619EEC50> False\n",
      "<keras.layers.convolutional.Conv2D object at 0x0000021C612D7C50> False\n",
      "<keras.layers.convolutional.Conv2D object at 0x0000021C6157F4A8> False\n",
      "<keras.layers.convolutional.Conv2D object at 0x0000021C618747F0> False\n",
      "<keras.layers.convolutional.Conv2D object at 0x0000021C619723C8> False\n",
      "<keras.layers.normalization.BatchNormalization object at 0x0000021C613D0BE0> False\n",
      "<keras.layers.normalization.BatchNormalization object at 0x0000021C61540C88> False\n",
      "<keras.layers.normalization.BatchNormalization object at 0x0000021C61892D30> False\n",
      "<keras.layers.normalization.BatchNormalization object at 0x0000021C61A69EB8> False\n",
      "<keras.layers.core.Activation object at 0x0000021C61317828> False\n",
      "<keras.layers.core.Activation object at 0x0000021C61559630> False\n",
      "<keras.layers.core.Activation object at 0x0000021C618AB630> False\n",
      "<keras.layers.core.Activation object at 0x0000021C619B69B0> False\n",
      "<keras.layers.merge.Concatenate object at 0x0000021C61AF3C50> False\n",
      "<keras.layers.convolutional.Conv2D object at 0x0000021C61C15E80> False\n",
      "<keras.layers.normalization.BatchNormalization object at 0x0000021C61BDACC0> False\n",
      "<keras.layers.core.Activation object at 0x0000021C61CADEB8> False\n",
      "<keras.layers.convolutional.Conv2D object at 0x0000021C61BF6898> False\n",
      "<keras.layers.normalization.BatchNormalization object at 0x0000021C61D19BA8> False\n",
      "<keras.layers.core.Activation object at 0x0000021C61CFBF60> False\n",
      "<keras.layers.convolutional.Conv2D object at 0x0000021C61A92828> False\n",
      "<keras.layers.convolutional.Conv2D object at 0x0000021C6CF3FA58> False\n",
      "<keras.layers.normalization.BatchNormalization object at 0x0000021C61B8EB70> False\n",
      "<keras.layers.normalization.BatchNormalization object at 0x0000021C6DF6EB70> False\n",
      "<keras.layers.core.Activation object at 0x0000021C61AD45C0> False\n",
      "<keras.layers.core.Activation object at 0x0000021C6DF588D0> False\n",
      "<keras.layers.pooling.MaxPooling2D object at 0x0000021C6E02BD68> False\n",
      "<keras.layers.merge.Concatenate object at 0x0000021C6E006C18> False\n",
      "<keras.layers.convolutional.Conv2D object at 0x0000021A8286A550> False\n",
      "<keras.layers.normalization.BatchNormalization object at 0x0000021A82596C50> False\n",
      "<keras.layers.core.Activation object at 0x0000021A827B4470> False\n",
      "<keras.layers.convolutional.Conv2D object at 0x0000021C6E0BEBA8> False\n",
      "<keras.layers.normalization.BatchNormalization object at 0x0000021C6E07F908> False\n",
      "<keras.layers.core.Activation object at 0x0000021C6E0A3198> False\n",
      "<keras.layers.convolutional.Conv2D object at 0x0000021A825364E0> False\n",
      "<keras.layers.convolutional.Conv2D object at 0x0000021C6E1E8F28> False\n",
      "<keras.layers.normalization.BatchNormalization object at 0x0000021A824EFC50> False\n",
      "<keras.layers.normalization.BatchNormalization object at 0x0000021C6E1C3CF8> False\n",
      "<keras.layers.core.Activation object at 0x0000021A828CF470> False\n",
      "<keras.layers.core.Activation object at 0x0000021C6E1AAB38> False\n",
      "<keras.layers.convolutional.Conv2D object at 0x0000021A82764BA8> False\n",
      "<keras.layers.convolutional.Conv2D object at 0x0000021C6E287550> False\n",
      "<keras.layers.normalization.BatchNormalization object at 0x0000021A824B9908> False\n",
      "<keras.layers.normalization.BatchNormalization object at 0x0000021C6E2E8C50> False\n",
      "<keras.layers.core.Activation object at 0x0000021A8275D198> False\n",
      "<keras.layers.core.Activation object at 0x0000021C6E2CC9E8> False\n",
      "<keras.layers.pooling.AveragePooling2D object at 0x0000021C6E532400> False\n",
      "<keras.layers.convolutional.Conv2D object at 0x0000021C6E006A58> False\n",
      "<keras.layers.convolutional.Conv2D object at 0x0000021A825D0F28> False\n",
      "<keras.layers.convolutional.Conv2D object at 0x0000021C6E40AC18> False\n",
      "<keras.layers.convolutional.Conv2D object at 0x0000021C6E4A45F8> False\n",
      "<keras.layers.normalization.BatchNormalization object at 0x0000021A824334E0> False\n",
      "<keras.layers.normalization.BatchNormalization object at 0x0000021A82479CF8> False\n",
      "<keras.layers.normalization.BatchNormalization object at 0x0000021C6E3D1978> False\n",
      "<keras.layers.normalization.BatchNormalization object at 0x0000021C6E4F6C88> False\n",
      "<keras.layers.core.Activation object at 0x0000021A82433080> False\n",
      "<keras.layers.core.Activation object at 0x0000021A82462B38> False\n",
      "<keras.layers.core.Activation object at 0x0000021C6E3EDFD0> False\n",
      "<keras.layers.core.Activation object at 0x0000021C6E4F65C0> False\n",
      "<keras.layers.merge.Concatenate object at 0x0000021C6E600B00> False\n",
      "<keras.layers.convolutional.Conv2D object at 0x0000021C6EACCDA0> False\n",
      "<keras.layers.normalization.BatchNormalization object at 0x0000021C6EAAEE80> False\n",
      "<keras.layers.core.Activation object at 0x0000021C6EB47550> False\n",
      "<keras.layers.convolutional.Conv2D object at 0x0000021C6EBCFC88> False\n",
      "<keras.layers.normalization.BatchNormalization object at 0x0000021C6EB92E80> False\n",
      "<keras.layers.core.Activation object at 0x0000021C6EBB29B0> False\n",
      "<keras.layers.convolutional.Conv2D object at 0x0000021C6E77ADA0> False\n",
      "<keras.layers.convolutional.Conv2D object at 0x0000021C6ECF8FD0> False\n",
      "<keras.layers.normalization.BatchNormalization object at 0x0000021C6E758E80> False\n",
      "<keras.layers.normalization.BatchNormalization object at 0x0000021C6ECD6BA8> False\n",
      "<keras.layers.core.Activation object at 0x0000021C6E7F5550> False\n",
      "<keras.layers.core.Activation object at 0x0000021C6ECBA588> False\n",
      "<keras.layers.convolutional.Conv2D object at 0x0000021C6E87DC88> False\n",
      "<keras.layers.convolutional.Conv2D object at 0x0000021C6EE1CDA0> False\n",
      "<keras.layers.normalization.BatchNormalization object at 0x0000021C6E840E80> False\n",
      "<keras.layers.normalization.BatchNormalization object at 0x0000021C6EDFBE80> False\n",
      "<keras.layers.core.Activation object at 0x0000021C6E8629B0> False\n",
      "<keras.layers.core.Activation object at 0x0000021C6EDE06D8> False\n",
      "<keras.layers.pooling.AveragePooling2D object at 0x0000021C6EFEE908> False\n",
      "<keras.layers.convolutional.Conv2D object at 0x0000021C6E5D7F60> False\n",
      "<keras.layers.convolutional.Conv2D object at 0x0000021C6E9A9FD0> False\n",
      "<keras.layers.convolutional.Conv2D object at 0x0000021C6EF1F7B8> False\n",
      "<keras.layers.convolutional.Conv2D object at 0x0000021C6EFB8F98> False\n",
      "<keras.layers.normalization.BatchNormalization object at 0x0000021C6E6D2F98> False\n",
      "<keras.layers.normalization.BatchNormalization object at 0x0000021C6E984BA8> False\n",
      "<keras.layers.normalization.BatchNormalization object at 0x0000021C6EEE2F28> False\n",
      "<keras.layers.normalization.BatchNormalization object at 0x0000021C6F095C88> False\n",
      "<keras.layers.core.Activation object at 0x0000021C6E621A58> False\n",
      "<keras.layers.core.Activation object at 0x0000021C6E96B588> False\n",
      "<keras.layers.core.Activation object at 0x0000021C6EEFF5F8> False\n",
      "<keras.layers.core.Activation object at 0x0000021C6F026400> False\n",
      "<keras.layers.merge.Concatenate object at 0x0000021C6F0EE8D0> False\n",
      "<keras.layers.convolutional.Conv2D object at 0x0000021C6F5E1C50> False\n",
      "<keras.layers.normalization.BatchNormalization object at 0x0000021C6F5BD550> False\n",
      "<keras.layers.core.Activation object at 0x0000021C6F7A9EB8> False\n",
      "<keras.layers.convolutional.Conv2D object at 0x0000021C6F834780> False\n",
      "<keras.layers.normalization.BatchNormalization object at 0x0000021C6F7F6EF0> False\n",
      "<keras.layers.core.Activation object at 0x0000021C6F8135C0> False\n",
      "<keras.layers.convolutional.Conv2D object at 0x0000021C6F28FC50> False\n",
      "<keras.layers.convolutional.Conv2D object at 0x0000021C6F9057F0> False\n",
      "<keras.layers.normalization.BatchNormalization object at 0x0000021C6F26E550> False\n",
      "<keras.layers.normalization.BatchNormalization object at 0x0000021C6F91FC88> False\n",
      "<keras.layers.core.Activation object at 0x0000021C6F309EB8> False\n",
      "<keras.layers.core.Activation object at 0x0000021C6F938630> False\n",
      "<keras.layers.convolutional.Conv2D object at 0x0000021C6F394780> False\n",
      "<keras.layers.convolutional.Conv2D object at 0x0000021C6FA81C50> False\n",
      "<keras.layers.normalization.BatchNormalization object at 0x0000021C6F353EF0> False\n",
      "<keras.layers.normalization.BatchNormalization object at 0x0000021C6FA5D550> False\n",
      "<keras.layers.core.Activation object at 0x0000021C6F3725C0> False\n",
      "<keras.layers.core.Activation object at 0x0000021C6FA469E8> False\n",
      "<keras.layers.pooling.AveragePooling2D object at 0x0000021C6FC22F28> False\n",
      "<keras.layers.convolutional.Conv2D object at 0x0000021C6F116550> False\n",
      "<keras.layers.convolutional.Conv2D object at 0x0000021C6F4637F0> False\n",
      "<keras.layers.convolutional.Conv2D object at 0x0000021C6FB28DD8> False\n",
      "<keras.layers.convolutional.Conv2D object at 0x0000021C6FC569B0> False\n",
      "<keras.layers.normalization.BatchNormalization object at 0x0000021C6F1E8F60> False\n",
      "<keras.layers.normalization.BatchNormalization object at 0x0000021C6F480C88> False\n",
      "<keras.layers.normalization.BatchNormalization object at 0x0000021C6FB48AC8> False\n",
      "<keras.layers.normalization.BatchNormalization object at 0x0000021C6FC8CB00> False\n",
      "<keras.layers.core.Activation object at 0x0000021C6F135518> False\n",
      "<keras.layers.core.Activation object at 0x0000021C6F499630> False\n",
      "<keras.layers.core.Activation object at 0x0000021C6FB66EF0> False\n",
      "<keras.layers.core.Activation object at 0x0000021C6FC8C080> False\n",
      "<keras.layers.merge.Concatenate object at 0x0000021C6FDD2F28> False\n",
      "<keras.layers.convolutional.Conv2D object at 0x0000021C701C12E8> False\n",
      "<keras.layers.normalization.BatchNormalization object at 0x0000021C7027EA58> False\n",
      "<keras.layers.core.Activation object at 0x0000021C702BE780> False\n",
      "<keras.layers.convolutional.Conv2D object at 0x0000021C702EBEF0> False\n",
      "<keras.layers.normalization.BatchNormalization object at 0x0000021C7030BE10> False\n",
      "<keras.layers.core.Activation object at 0x0000021C7032CC18> False\n",
      "<keras.layers.convolutional.Conv2D object at 0x0000021C6FE71908> False\n",
      "<keras.layers.convolutional.Conv2D object at 0x0000021C703E4EF0> False\n",
      "<keras.layers.normalization.BatchNormalization object at 0x0000021C6FF2FA58> False\n",
      "<keras.layers.normalization.BatchNormalization object at 0x0000021C70432A20> False\n",
      "<keras.layers.core.Activation object at 0x0000021C6FF70780> False\n",
      "<keras.layers.core.Activation object at 0x0000021C704508D0> False\n",
      "<keras.layers.convolutional.Conv2D object at 0x0000021C6FF9CEF0> False\n",
      "<keras.layers.convolutional.Conv2D object at 0x0000021C705142E8> False\n",
      "<keras.layers.normalization.BatchNormalization object at 0x0000021C6FFBAE10> False\n",
      "<keras.layers.normalization.BatchNormalization object at 0x0000021C705D3A58> False\n",
      "<keras.layers.core.Activation object at 0x0000021C6FFDAC18> False\n",
      "<keras.layers.core.Activation object at 0x0000021C7055E978> False\n",
      "<keras.layers.pooling.AveragePooling2D object at 0x0000021C70A09A20> False\n",
      "<keras.layers.convolutional.Conv2D object at 0x0000021C6FD50C50> False\n",
      "<keras.layers.convolutional.Conv2D object at 0x0000021C70095EF0> False\n",
      "<keras.layers.convolutional.Conv2D object at 0x0000021C7063DCF8> False\n",
      "<keras.layers.convolutional.Conv2D object at 0x0000021C70A09400> False\n",
      "<keras.layers.normalization.BatchNormalization object at 0x0000021C6FDADA20> False\n",
      "<keras.layers.normalization.BatchNormalization object at 0x0000021C700E2A20> False\n",
      "<keras.layers.normalization.BatchNormalization object at 0x0000021C7065DCC0> False\n",
      "<keras.layers.normalization.BatchNormalization object at 0x0000021C70A41E48> False\n",
      "<keras.layers.core.Activation object at 0x0000021C6FD907B8> False\n",
      "<keras.layers.core.Activation object at 0x0000021C700E48D0> False\n",
      "<keras.layers.core.Activation object at 0x0000021C70664630> False\n",
      "<keras.layers.core.Activation object at 0x0000021C70A419E8> False\n",
      "<keras.layers.merge.Concatenate object at 0x0000021C70B813C8> False\n",
      "<keras.layers.convolutional.Conv2D object at 0x0000021C73CCD8D0> False\n",
      "<keras.layers.normalization.BatchNormalization object at 0x0000021C73D29B70> False\n",
      "<keras.layers.core.Activation object at 0x0000021C73DCC390> False\n",
      "<keras.layers.convolutional.Conv2D object at 0x0000021C73D10E48> False\n",
      "<keras.layers.normalization.BatchNormalization object at 0x0000021C73E10E80> False\n",
      "<keras.layers.core.Activation object at 0x0000021C73E37438> False\n",
      "<keras.layers.convolutional.Conv2D object at 0x0000021C70AF3BA8> False\n",
      "<keras.layers.convolutional.Conv2D object at 0x0000021C73EF73C8> False\n",
      "<keras.layers.normalization.BatchNormalization object at 0x0000021C70B5EB38> False\n",
      "<keras.layers.normalization.BatchNormalization object at 0x0000021C73F56DD8> False\n",
      "<keras.layers.core.Activation object at 0x0000021C70B445C0> False\n",
      "<keras.layers.core.Activation object at 0x0000021C73F3E4E0> False\n",
      "<keras.layers.convolutional.Conv2D object at 0x0000021C70C257B8> False\n",
      "<keras.layers.convolutional.Conv2D object at 0x0000021C740208D0> False\n",
      "<keras.layers.normalization.BatchNormalization object at 0x0000021C70C84DD8> False\n",
      "<keras.layers.normalization.BatchNormalization object at 0x0000021C7407AB70> False\n",
      "<keras.layers.core.Activation object at 0x0000021C70C6D4E0> False\n",
      "<keras.layers.core.Activation object at 0x0000021C7405F828> False\n",
      "<keras.layers.pooling.MaxPooling2D object at 0x0000021C741A2C18> False\n",
      "<keras.layers.merge.Concatenate object at 0x0000021C74142BA8> False\n",
      "<keras.layers.convolutional.Conv2D object at 0x0000021C744D3860> False\n",
      "<keras.layers.normalization.BatchNormalization object at 0x0000021C745F9908> False\n",
      "<keras.layers.core.Activation object at 0x0000021C745F9E10> False\n",
      "<keras.layers.convolutional.Conv2D object at 0x0000021C742C5B70> False\n",
      "<keras.layers.convolutional.Conv2D object at 0x0000021C74743EB8> False\n",
      "<keras.layers.normalization.BatchNormalization object at 0x0000021C7428D8D0> False\n",
      "<keras.layers.normalization.BatchNormalization object at 0x0000021C74720A58> False\n",
      "<keras.layers.core.Activation object at 0x0000021C74359D30> False\n",
      "<keras.layers.core.Activation object at 0x0000021C747074A8> False\n",
      "<keras.layers.convolutional.Conv2D object at 0x0000021C742A9E80> False\n",
      "<keras.layers.convolutional.Conv2D object at 0x0000021C744F2C18> False\n",
      "<keras.layers.convolutional.Conv2D object at 0x0000021C747EA940> False\n",
      "<keras.layers.convolutional.Conv2D object at 0x0000021C74965C88> False\n",
      "<keras.layers.pooling.AveragePooling2D object at 0x0000021C7494BF98> False\n",
      "<keras.layers.convolutional.Conv2D object at 0x0000021C74142358> False\n",
      "<keras.layers.normalization.BatchNormalization object at 0x0000021C74429748> False\n",
      "<keras.layers.normalization.BatchNormalization object at 0x0000021C744B6F98> False\n",
      "<keras.layers.normalization.BatchNormalization object at 0x0000021C74842D30> False\n",
      "<keras.layers.normalization.BatchNormalization object at 0x0000021C7492BE80> False\n",
      "<keras.layers.convolutional.Conv2D object at 0x0000021C7494BDD8> False\n",
      "<keras.layers.normalization.BatchNormalization object at 0x0000021C74185278> False\n",
      "<keras.layers.core.Activation object at 0x0000021C743B59B0> False\n",
      "<keras.layers.core.Activation object at 0x0000021C74590A20> False\n",
      "<keras.layers.core.Activation object at 0x0000021C748292B0> False\n",
      "<keras.layers.core.Activation object at 0x0000021C74A00E48> False\n",
      "<keras.layers.normalization.BatchNormalization object at 0x0000021C74A594A8> False\n",
      "<keras.layers.core.Activation object at 0x0000021C74239518> False\n",
      "<keras.layers.merge.Concatenate object at 0x0000021C744D35F8> False\n",
      "<keras.layers.merge.Concatenate object at 0x0000021C74A93EB8> False\n",
      "<keras.layers.core.Activation object at 0x0000021C74A596A0> False\n",
      "<keras.layers.merge.Concatenate object at 0x0000021C74B3CB00> False\n",
      "<keras.layers.convolutional.Conv2D object at 0x0000021C7502DD30> False\n",
      "<keras.layers.normalization.BatchNormalization object at 0x0000021C750AAD30> False\n",
      "<keras.layers.core.Activation object at 0x0000021C750AAD68> False\n",
      "<keras.layers.convolutional.Conv2D object at 0x0000021C74C617B8> False\n",
      "<keras.layers.convolutional.Conv2D object at 0x0000021C750D5C50> False\n",
      "<keras.layers.normalization.BatchNormalization object at 0x0000021C74CBFB70> False\n",
      "<keras.layers.normalization.BatchNormalization object at 0x0000021C750F6A58> False\n",
      "<keras.layers.core.Activation object at 0x0000021C74D56E80> False\n",
      "<keras.layers.core.Activation object at 0x0000021C75115BE0> False\n",
      "<keras.layers.convolutional.Conv2D object at 0x0000021C74DDE748> False\n",
      "<keras.layers.convolutional.Conv2D object at 0x0000021C74EAF710> False\n",
      "<keras.layers.convolutional.Conv2D object at 0x0000021C751D0EB8> False\n",
      "<keras.layers.convolutional.Conv2D object at 0x0000021C752FE048> False\n",
      "<keras.layers.pooling.AveragePooling2D object at 0x0000021C75486E80> False\n",
      "<keras.layers.convolutional.Conv2D object at 0x0000021C74B5F160> False\n",
      "<keras.layers.normalization.BatchNormalization object at 0x0000021C74DA1EB8> False\n",
      "<keras.layers.normalization.BatchNormalization object at 0x0000021C74ECD8D0> False\n",
      "<keras.layers.normalization.BatchNormalization object at 0x0000021C7521D780> False\n",
      "<keras.layers.normalization.BatchNormalization object at 0x0000021C7537FEF0> False\n",
      "<keras.layers.convolutional.Conv2D object at 0x0000021C75348AC8> False\n",
      "<keras.layers.normalization.BatchNormalization object at 0x0000021C74BBBDD8> False\n",
      "<keras.layers.core.Activation object at 0x0000021C74DBF588> False\n",
      "<keras.layers.core.Activation object at 0x0000021C74FAD1D0> False\n",
      "<keras.layers.core.Activation object at 0x0000021C7523D6D8> False\n",
      "<keras.layers.core.Activation object at 0x0000021C753F9748> False\n",
      "<keras.layers.normalization.BatchNormalization object at 0x0000021C755229B0> False\n",
      "<keras.layers.core.Activation object at 0x0000021C74B81AC8> False\n",
      "<keras.layers.merge.Concatenate object at 0x0000021C74F5AEF0> True\n",
      "<keras.layers.merge.Concatenate object at 0x0000021C75428F98> True\n",
      "<keras.layers.core.Activation object at 0x0000021C754655C0> True\n",
      "<keras.layers.merge.Concatenate object at 0x0000021C75558AC8> True\n"
     ]
    }
   ],
   "source": [
    "# Freeze the layers except the last 4 layers\n",
    "for layer in inception.layers[:-4]:\n",
    "    layer.trainable = False\n",
    "\n",
    "# Check the trainable status of the individual layers\n",
    "for layer in inception.layers:\n",
    "    print(layer, layer.trainable)"
   ]
  },
  {
   "cell_type": "markdown",
   "metadata": {},
   "source": [
    "Create and define the model"
   ]
  },
  {
   "cell_type": "code",
   "execution_count": 10,
   "metadata": {},
   "outputs": [
    {
     "name": "stdout",
     "output_type": "stream",
     "text": [
      "WARNING:tensorflow:From C:\\Users\\alpha\\AppData\\Local\\conda\\conda\\envs\\keras-gpu\\lib\\site-packages\\keras\\backend\\tensorflow_backend.py:3445: calling dropout (from tensorflow.python.ops.nn_ops) with keep_prob is deprecated and will be removed in a future version.\n",
      "Instructions for updating:\n",
      "Please use `rate` instead of `keep_prob`. Rate should be set to `rate = 1 - keep_prob`.\n",
      "Number of classes: 103\n",
      "_________________________________________________________________\n",
      "Layer (type)                 Output Shape              Param #   \n",
      "=================================================================\n",
      "inception_v3 (Model)         (None, 8, 8, 2048)        21802784  \n",
      "_________________________________________________________________\n",
      "flatten_1 (Flatten)          (None, 131072)            0         \n",
      "_________________________________________________________________\n",
      "dense_1 (Dense)              (None, 1024)              134218752 \n",
      "_________________________________________________________________\n",
      "dropout_1 (Dropout)          (None, 1024)              0         \n",
      "_________________________________________________________________\n",
      "dense_2 (Dense)              (None, 103)               105575    \n",
      "=================================================================\n",
      "Total params: 156,127,111\n",
      "Trainable params: 134,324,327\n",
      "Non-trainable params: 21,802,784\n",
      "_________________________________________________________________\n"
     ]
    }
   ],
   "source": [
    "# Create the model\n",
    "model = models.Sequential()\n",
    " \n",
    "# Add the vgg convolutional base model\n",
    "model.add(inception)\n",
    " \n",
    "# Add new layers\n",
    "model.add(layers.Flatten())\n",
    "model.add(layers.Dense(1024, activation='relu'))\n",
    "model.add(layers.Dropout(0.5))\n",
    "\n",
    "classes=train_generator.num_classes\n",
    "print(\"Number of classes:\",classes)\n",
    "model.add(layers.Dense(classes, activation='softmax'))\n",
    "\n",
    "# Compile the model\n",
    "model.compile(loss='categorical_crossentropy',\n",
    "              optimizer=optimizers.SGD(lr=1e-4, momentum=0.9),\n",
    "              metrics=['acc'])\n",
    "\n",
    "model.summary()"
   ]
  },
  {
   "cell_type": "markdown",
   "metadata": {},
   "source": [
    "### Train the model"
   ]
  },
  {
   "cell_type": "code",
   "execution_count": 11,
   "metadata": {},
   "outputs": [
    {
     "name": "stdout",
     "output_type": "stream",
     "text": [
      "WARNING:tensorflow:From C:\\Users\\alpha\\AppData\\Local\\conda\\conda\\envs\\keras-gpu\\lib\\site-packages\\tensorflow\\python\\ops\\math_ops.py:3066: to_int32 (from tensorflow.python.ops.math_ops) is deprecated and will be removed in a future version.\n",
      "Instructions for updating:\n",
      "Use tf.cast instead.\n",
      "Epoch 1/5\n",
      "3324/3323 [==============================] - 1969s 592ms/step - loss: 1.0423 - acc: 0.7480 - val_loss: 2.9412 - val_acc: 0.3015\n",
      "Epoch 2/5\n",
      "3324/3323 [==============================] - 1465s 441ms/step - loss: 0.2013 - acc: 0.9457 - val_loss: 3.0142 - val_acc: 0.2981\n",
      "Epoch 3/5\n",
      "3324/3323 [==============================] - 1451s 436ms/step - loss: 0.1186 - acc: 0.9681 - val_loss: 2.7896 - val_acc: 0.3467\n",
      "Epoch 4/5\n",
      "3324/3323 [==============================] - 1457s 438ms/step - loss: 0.0876 - acc: 0.9775 - val_loss: 2.8132 - val_acc: 0.3344\n",
      "Epoch 5/5\n",
      "3324/3323 [==============================] - 1467s 441ms/step - loss: 0.0688 - acc: 0.9824 - val_loss: 2.6863 - val_acc: 0.3504\n",
      "\n",
      "Training completed\n"
     ]
    }
   ],
   "source": [
    "start_time = time.time()\n",
    "\n",
    "with tf.device(\"/device:GPU:0\"):\n",
    "    # Train the model\n",
    "    history = model.fit_generator(\n",
    "          train_generator,\n",
    "          steps_per_epoch=train_generator.samples/train_generator.batch_size ,\n",
    "          epochs=5,\n",
    "          validation_data=validation_generator,\n",
    "          validation_steps=validation_generator.samples/validation_generator.batch_size,\n",
    "          verbose=1)\n",
    " \n",
    "\n",
    "print(\"\\nTraining completed\")\n",
    "elapsed_time = time.time() - start_time\n",
    "print(\"Time:\",elapsed_time) "
   ]
  },
  {
   "cell_type": "markdown",
   "metadata": {},
   "source": [
    "See the results"
   ]
  },
  {
   "cell_type": "code",
   "execution_count": 12,
   "metadata": {},
   "outputs": [
    {
     "name": "stdout",
     "output_type": "stream",
     "text": [
      "Validation Accuracy max: 0.3503502381636202\n",
      "Validation Loss max: 2.6863035547729965\n",
      "Training Accuracy max: 0.9823796002030953\n",
      "Training Loss max: 0.06881602044664113\n"
     ]
    }
   ],
   "source": [
    "print(\"Validation Accuracy max:\",history.history['val_acc'][-1])\n",
    "print(\"Validation Loss max:\",history.history['val_loss'][-1])\n",
    "print(\"Training Accuracy max:\",history.history['acc'][-1])\n",
    "print(\"Training Loss max:\",history.history['loss'][-1])"
   ]
  },
  {
   "cell_type": "code",
   "execution_count": 13,
   "metadata": {},
   "outputs": [
    {
     "data": {
      "image/png": "[encoded data removed]",
      "text/plain": [
       "<Figure size 432x288 with 1 Axes>"
      ]
     },
     "metadata": {
      "needs_background": "light"
     },
     "output_type": "display_data"
    },
    {
     "data": {
      "image/png": "[encoded data removed]",
      "text/plain": [
       "<Figure size 432x288 with 1 Axes>"
      ]
     },
     "metadata": {
      "needs_background": "light"
     },
     "output_type": "display_data"
    }
   ],
   "source": [
    "# summarize history for accuracy\n",
    "plt.plot(history.history['val_acc'])\n",
    "plt.plot(history.history['acc'])\n",
    "plt.title('model accuracy')\n",
    "plt.ylabel('accuracy')\n",
    "plt.xlabel('epoch')\n",
    "plt.legend(['Validation','Training'],loc = 'upper left')\n",
    "plt.savefig('../plots/exp2_p2_acc.png')\n",
    "plt.show()\n",
    "\n",
    "\n",
    "# summarize history for loss\n",
    "plt.plot(history.history['val_loss'])\n",
    "plt.plot(history.history['loss'])\n",
    "plt.title('model loss')\n",
    "plt.ylabel('loss')\n",
    "plt.xlabel('epoch')\n",
    "plt.legend(['Validation','Training'],loc = 'upper left')\n",
    "plt.savefig('../plots/exp2_p2_loss.png')\n",
    "plt.show()\n"
   ]
  },
  {
   "cell_type": "code",
   "execution_count": 14,
   "metadata": {},
   "outputs": [
    {
     "name": "stdout",
     "output_type": "stream",
     "text": [
      "WARNING:tensorflow:From C:\\Users\\alpha\\AppData\\Local\\conda\\conda\\envs\\keras-gpu\\lib\\site-packages\\keras2onnx\\subgraph.py:140: tensor_shape_from_node_def_name (from tensorflow.python.framework.graph_util_impl) is deprecated and will be removed in a future version.\n",
      "Instructions for updating:\n",
      "Use tf.compat.v1.graph_util.remove_training_nodes\n",
      "Impossibile to serialize the model, please check the code and retry\n"
     ]
    },
    {
     "data": {
      "text/plain": [
       "False"
      ]
     },
     "execution_count": 14,
     "metadata": {},
     "output_type": "execute_result"
    }
   ],
   "source": [
    "saveKerasModel(model,\"inceptionV3Freeze\")"
   ]
  },
  {
   "cell_type": "code",
   "execution_count": 15,
   "metadata": {},
   "outputs": [
    {
     "name": "stdout",
     "output_type": "stream",
     "text": [
      "1116/1115 [==============================] - 92s 83ms/step\n",
      "No of errors = 17656/17845\n",
      "Errors not printed\n"
     ]
    }
   ],
   "source": [
    "errors = seeErrors(validation_data_dir,validation_generator,model)"
   ]
  }
 ],
 "metadata": {
  "kernelspec": {
   "display_name": "Python 3",
   "language": "python",
   "name": "python3"
  },
  "language_info": {
   "codemirror_mode": {
    "name": "ipython",
    "version": 3
   },
   "file_extension": ".py",
   "mimetype": "text/x-python",
   "name": "python",
   "nbconvert_exporter": "python",
   "pygments_lexer": "ipython3",
   "version": "3.6.8"
  }
 },
 "nbformat": 4,
 "nbformat_minor": 2
}
