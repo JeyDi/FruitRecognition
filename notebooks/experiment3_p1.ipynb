{
 "cells": [
  {
   "cell_type": "markdown",
   "metadata": {},
   "source": [
    "# Experiment 3\n",
    "---------------\n",
    "Try to create a custom model based on fruit paper"
   ]
  },
  {
   "cell_type": "code",
   "execution_count": 1,
   "metadata": {},
   "outputs": [
    {
     "name": "stdout",
     "output_type": "stream",
     "text": [
      "System version\n",
      " 3.6.8 |Anaconda, Inc.| (default, Feb 21 2019, 18:30:04) [MSC v.1916 64 bit (AMD64)]\n"
     ]
    },
    {
     "name": "stderr",
     "output_type": "stream",
     "text": [
      "Using TensorFlow backend.\n"
     ]
    },
    {
     "name": "stdout",
     "output_type": "stream",
     "text": [
      "\n",
      "Your Device List:\n",
      " [name: \"/device:CPU:0\"\n",
      "device_type: \"CPU\"\n",
      "memory_limit: 268435456\n",
      "locality {\n",
      "}\n",
      "incarnation: 1215834140663344552\n",
      ", name: \"/device:GPU:0\"\n",
      "device_type: \"GPU\"\n",
      "memory_limit: 6700198133\n",
      "locality {\n",
      "  bus_id: 1\n",
      "  links {\n",
      "  }\n",
      "}\n",
      "incarnation: 17855086966375966921\n",
      "physical_device_desc: \"device: 0, name: GeForce GTX 1070, pci bus id: 0000:01:00.0, compute capability: 6.1\"\n",
      "]\n"
     ]
    }
   ],
   "source": [
    "%run ./prepare_dataset.ipynb"
   ]
  },
  {
   "cell_type": "code",
   "execution_count": 2,
   "metadata": {},
   "outputs": [
    {
     "name": "stdout",
     "output_type": "stream",
     "text": [
      "\n",
      "Image Width: 100\n",
      "Image Height: 100\n",
      "Image Size: 100\n",
      "Batch Size: 16\n",
      "\n",
      "Train dir: ../fruits-360/Training/\n",
      "Test dir: ../fruits-360/Test/\n",
      "\n",
      "Import Trainingset\n",
      "Found 53177 images belonging to 103 classes.\n",
      "\n",
      "Import Validationset\n",
      "Found 17845 images belonging to 103 classes.\n",
      "\n",
      "Train Samples:  53177\n",
      "Train Classes: 103\n",
      "Class Indexes:\n",
      " {'Apple Braeburn': 0, 'Apple Crimson Snow': 1, 'Apple Golden 1': 2, 'Apple Golden 2': 3, 'Apple Golden 3': 4, 'Apple Granny Smith': 5, 'Apple Pink Lady': 6, 'Apple Red 1': 7, 'Apple Red 2': 8, 'Apple Red 3': 9, 'Apple Red Delicious': 10, 'Apple Red Yellow 1': 11, 'Apple Red Yellow 2': 12, 'Apricot': 13, 'Avocado': 14, 'Avocado ripe': 15, 'Banana': 16, 'Banana Lady Finger': 17, 'Banana Red': 18, 'Cactus fruit': 19, 'Cantaloupe 1': 20, 'Cantaloupe 2': 21, 'Carambula': 22, 'Cherry 1': 23, 'Cherry 2': 24, 'Cherry Rainier': 25, 'Cherry Wax Black': 26, 'Cherry Wax Red': 27, 'Cherry Wax Yellow': 28, 'Chestnut': 29, 'Clementine': 30, 'Cocos': 31, 'Dates': 32, 'Granadilla': 33, 'Grape Blue': 34, 'Grape Pink': 35, 'Grape White': 36, 'Grape White 2': 37, 'Grape White 3': 38, 'Grape White 4': 39, 'Grapefruit Pink': 40, 'Grapefruit White': 41, 'Guava': 42, 'Hazelnut': 43, 'Huckleberry': 44, 'Kaki': 45, 'Kiwi': 46, 'Kohlrabi': 47, 'Kumquats': 48, 'Lemon': 49, 'Lemon Meyer': 50, 'Limes': 51, 'Lychee': 52, 'Mandarine': 53, 'Mango': 54, 'Mangostan': 55, 'Maracuja': 56, 'Melon Piel de Sapo': 57, 'Mulberry': 58, 'Nectarine': 59, 'Orange': 60, 'Papaya': 61, 'Passion Fruit': 62, 'Peach': 63, 'Peach 2': 64, 'Peach Flat': 65, 'Pear': 66, 'Pear Abate': 67, 'Pear Kaiser': 68, 'Pear Monster': 69, 'Pear Red': 70, 'Pear Williams': 71, 'Pepino': 72, 'Pepper Green': 73, 'Pepper Red': 74, 'Pepper Yellow': 75, 'Physalis': 76, 'Physalis with Husk': 77, 'Pineapple': 78, 'Pineapple Mini': 79, 'Pitahaya Red': 80, 'Plum': 81, 'Plum 2': 82, 'Plum 3': 83, 'Pomegranate': 84, 'Pomelo Sweetie': 85, 'Quince': 86, 'Rambutan': 87, 'Raspberry': 88, 'Redcurrant': 89, 'Salak': 90, 'Strawberry': 91, 'Strawberry Wedge': 92, 'Tamarillo': 93, 'Tangelo': 94, 'Tomato 1': 95, 'Tomato 2': 96, 'Tomato 3': 97, 'Tomato 4': 98, 'Tomato Cherry Red': 99, 'Tomato Maroon': 100, 'Tomato Yellow': 101, 'Walnut': 102}\n",
      "\n",
      "Validation Samples:  17845\n",
      "\n",
      "Train Classes: 103\n",
      "\n",
      "Class Indexes:\n",
      " {'Apple Braeburn': 0, 'Apple Crimson Snow': 1, 'Apple Golden 1': 2, 'Apple Golden 2': 3, 'Apple Golden 3': 4, 'Apple Granny Smith': 5, 'Apple Pink Lady': 6, 'Apple Red 1': 7, 'Apple Red 2': 8, 'Apple Red 3': 9, 'Apple Red Delicious': 10, 'Apple Red Yellow 1': 11, 'Apple Red Yellow 2': 12, 'Apricot': 13, 'Avocado': 14, 'Avocado ripe': 15, 'Banana': 16, 'Banana Lady Finger': 17, 'Banana Red': 18, 'Cactus fruit': 19, 'Cantaloupe 1': 20, 'Cantaloupe 2': 21, 'Carambula': 22, 'Cherry 1': 23, 'Cherry 2': 24, 'Cherry Rainier': 25, 'Cherry Wax Black': 26, 'Cherry Wax Red': 27, 'Cherry Wax Yellow': 28, 'Chestnut': 29, 'Clementine': 30, 'Cocos': 31, 'Dates': 32, 'Granadilla': 33, 'Grape Blue': 34, 'Grape Pink': 35, 'Grape White': 36, 'Grape White 2': 37, 'Grape White 3': 38, 'Grape White 4': 39, 'Grapefruit Pink': 40, 'Grapefruit White': 41, 'Guava': 42, 'Hazelnut': 43, 'Huckleberry': 44, 'Kaki': 45, 'Kiwi': 46, 'Kohlrabi': 47, 'Kumquats': 48, 'Lemon': 49, 'Lemon Meyer': 50, 'Limes': 51, 'Lychee': 52, 'Mandarine': 53, 'Mango': 54, 'Mangostan': 55, 'Maracuja': 56, 'Melon Piel de Sapo': 57, 'Mulberry': 58, 'Nectarine': 59, 'Orange': 60, 'Papaya': 61, 'Passion Fruit': 62, 'Peach': 63, 'Peach 2': 64, 'Peach Flat': 65, 'Pear': 66, 'Pear Abate': 67, 'Pear Kaiser': 68, 'Pear Monster': 69, 'Pear Red': 70, 'Pear Williams': 71, 'Pepino': 72, 'Pepper Green': 73, 'Pepper Red': 74, 'Pepper Yellow': 75, 'Physalis': 76, 'Physalis with Husk': 77, 'Pineapple': 78, 'Pineapple Mini': 79, 'Pitahaya Red': 80, 'Plum': 81, 'Plum 2': 82, 'Plum 3': 83, 'Pomegranate': 84, 'Pomelo Sweetie': 85, 'Quince': 86, 'Rambutan': 87, 'Raspberry': 88, 'Redcurrant': 89, 'Salak': 90, 'Strawberry': 91, 'Strawberry Wedge': 92, 'Tamarillo': 93, 'Tangelo': 94, 'Tomato 1': 95, 'Tomato 2': 96, 'Tomato 3': 97, 'Tomato 4': 98, 'Tomato Cherry Red': 99, 'Tomato Maroon': 100, 'Tomato Yellow': 101, 'Walnut': 102}\n"
     ]
    },
    {
     "data": {
      "text/plain": [
       "(53177, 103, 17845, 103)"
      ]
     },
     "execution_count": 2,
     "metadata": {},
     "output_type": "execute_result"
    }
   ],
   "source": [
    "img_width, img_height, img_size, batch_size =  prepareConstants(100 ,100,100,16)\n",
    "train_data_dir, validation_data_dir = setDirs()\n",
    "train_generator, validation_generator = prepareDatasets(train_data_dir,validation_data_dir,img_width,img_height,batch_size)\n",
    "checkData(train_generator,validation_generator)"
   ]
  },
  {
   "cell_type": "code",
   "execution_count": 5,
   "metadata": {},
   "outputs": [
    {
     "name": "stdout",
     "output_type": "stream",
     "text": [
      "_________________________________________________________________\n",
      "Layer (type)                 Output Shape              Param #   \n",
      "=================================================================\n",
      "conv2d_5 (Conv2D)            (None, 96, 96, 4)         304       \n",
      "_________________________________________________________________\n",
      "max_pooling2d_5 (MaxPooling2 (None, 48, 48, 4)         0         \n",
      "_________________________________________________________________\n",
      "conv2d_6 (Conv2D)            (None, 44, 44, 16)        1616      \n",
      "_________________________________________________________________\n",
      "max_pooling2d_6 (MaxPooling2 (None, 22, 22, 16)        0         \n",
      "_________________________________________________________________\n",
      "conv2d_7 (Conv2D)            (None, 18, 18, 32)        12832     \n",
      "_________________________________________________________________\n",
      "max_pooling2d_7 (MaxPooling2 (None, 9, 9, 32)          0         \n",
      "_________________________________________________________________\n",
      "conv2d_8 (Conv2D)            (None, 5, 5, 64)          51264     \n",
      "_________________________________________________________________\n",
      "max_pooling2d_8 (MaxPooling2 (None, 2, 2, 64)          0         \n",
      "_________________________________________________________________\n",
      "flatten_2 (Flatten)          (None, 256)               0         \n",
      "_________________________________________________________________\n",
      "dense_3 (Dense)              (None, 128)               32896     \n",
      "_________________________________________________________________\n",
      "dense_4 (Dense)              (None, 103)               13287     \n",
      "=================================================================\n",
      "Total params: 112,199\n",
      "Trainable params: 112,199\n",
      "Non-trainable params: 0\n",
      "_________________________________________________________________\n"
     ]
    }
   ],
   "source": [
    "model = models.Sequential()\n",
    "\n",
    "#Create the network\n",
    "model.add(layers.Conv2D(4, (5, 5), activation='relu', input_shape=(img_width, img_height, 3)))\n",
    "model.add(layers.MaxPooling2D((2, 2), strides=2))\n",
    "model.add(layers.Conv2D(16, (5, 5), activation='relu'))\n",
    "model.add(layers.MaxPooling2D((2, 2), strides=2))\n",
    "model.add(layers.Conv2D(32, (5, 5), activation='relu'))\n",
    "model.add(layers.MaxPooling2D((2, 2), strides=2))\n",
    "model.add(layers.Conv2D(64, (5, 5), activation='relu'))\n",
    "model.add(layers.MaxPooling2D((2, 2), strides=2))\n",
    "model.add(layers.Flatten())\n",
    "model.add(layers.Dense(128, activation='relu'))\n",
    "model.add(layers.Dense(103, activation='softmax'))\n",
    "\n",
    "\n",
    "#Create early stop callback\n",
    "# earlystop = EarlyStopping(monitor='loss', min_delta=0.0001, patience=5, \\\n",
    "#                           verbose=1, mode='auto')\n",
    "# callbacks_list = [earlystop]\n",
    "\n",
    "#Compile the model\n",
    "model.compile(\n",
    "        optimizer='adam',\n",
    "        loss='categorical_crossentropy',\n",
    "        metrics=['accuracy'])\n",
    "\n",
    "model.summary()"
   ]
  },
  {
   "cell_type": "markdown",
   "metadata": {},
   "source": [
    "### Train the Model"
   ]
  },
  {
   "cell_type": "code",
   "execution_count": 32,
   "metadata": {},
   "outputs": [
    {
     "name": "stdout",
     "output_type": "stream",
     "text": [
      "3323.5625\n",
      "1115.3125\n"
     ]
    }
   ],
   "source": [
    "print(train_generator.samples/train_generator.batch_size)\n",
    "print(validation_generator.samples/validation_generator.batch_size)"
   ]
  },
  {
   "cell_type": "code",
   "execution_count": null,
   "metadata": {},
   "outputs": [],
   "source": [
    "# with tf.device(\"/device:GPU:0\"):\n",
    "#     # Train the model\n",
    "#     history = model.fit_generator(\n",
    "#           train_generator,\n",
    "#           steps_per_epoch=train_generator.samples/train_generator.batch_size ,\n",
    "#           steps_per_epoch = 60,\n",
    "#           epochs=20,\n",
    "#           validation_data=validation_generator,\n",
    "#           validation_steps=validation_generator.samples/validation_generator.batch_size,\n",
    "#           verbose=0)\n",
    "\n",
    "start_time = time.time()\n",
    "\n",
    "with tf.device(\"/device:GPU:0\"):\n",
    "    history = model.fit_generator(\n",
    "    train_generator,\n",
    "    steps_per_epoch = train_generator.samples,\n",
    "    epochs=5, shuffle = True, verbose = 0, \n",
    "    validation_data = validation_generator,\n",
    "    validation_steps = validation_generator.samples\n",
    "    ) \n",
    "\n",
    "    \n",
    "print(\"\\nTraining completed\")\n",
    "\n",
    "elapsed_time = time.time() - start_time\n",
    "print(\"Time:\",elapsed_time) \n"
   ]
  },
  {
   "cell_type": "code",
   "execution_count": 7,
   "metadata": {},
   "outputs": [
    {
     "name": "stdout",
     "output_type": "stream",
     "text": [
      "Validation Accuracy max: 0.9247408237601569\n",
      "Validation Loss max: 0.323432678943311\n",
      "Training Accuracy max: 0.964025800629212\n",
      "Training Loss max: 0.11182551736345149\n"
     ]
    }
   ],
   "source": [
    "print(\"Validation Accuracy max:\",history.history['val_acc'][-1])\n",
    "print(\"Validation Loss max:\",history.history['val_loss'][-1])\n",
    "print(\"Training Accuracy max:\",history.history['acc'][-1])\n",
    "print(\"Training Loss max:\",history.history['loss'][-1])\n"
   ]
  },
  {
   "cell_type": "code",
   "execution_count": null,
   "metadata": {},
   "outputs": [],
   "source": [
    "# with tf.device(\"/device:GPU:0\"):\n",
    "#     #Evaluate the test set\n",
    "#     history_evaluation = model.evaluate(validation_generator, validation_generator.labels)\n",
    "\n",
    "# print(\"\\nEvaluation completed\")"
   ]
  },
  {
   "cell_type": "markdown",
   "metadata": {},
   "source": [
    "### Validate the results"
   ]
  },
  {
   "cell_type": "code",
   "execution_count": 8,
   "metadata": {},
   "outputs": [
    {
     "data": {
      "image/png": "[encoded data removed]",
      "text/plain": [
       "<Figure size 432x288 with 1 Axes>"
      ]
     },
     "metadata": {
      "needs_background": "light"
     },
     "output_type": "display_data"
    },
    {
     "data": {
      "image/png": "[encoded data removed]",
      "text/plain": [
       "<Figure size 432x288 with 1 Axes>"
      ]
     },
     "metadata": {
      "needs_background": "light"
     },
     "output_type": "display_data"
    }
   ],
   "source": [
    "# summarize history for accuracy\n",
    "plt.plot(history.history['val_acc'])\n",
    "plt.plot(history.history['acc'])\n",
    "plt.title('model accuracy')\n",
    "plt.ylabel('accuracy')\n",
    "plt.xlabel('epoch')\n",
    "plt.legend(['Validation','Training'],loc = 'upper left')\n",
    "plt.savefig('../plots/exp3_p1_acc.png')\n",
    "plt.show()\n",
    "\n",
    "\n",
    "# summarize history for loss\n",
    "plt.plot(history.history['val_loss'])\n",
    "plt.plot(history.history['loss'])\n",
    "plt.title('model loss')\n",
    "plt.ylabel('loss')\n",
    "plt.xlabel('epoch')\n",
    "plt.legend(['Validation','Training'],loc = 'upper left')\n",
    "plt.savefig('../plots/exp3_p1_loss.png')\n",
    "plt.show()\n"
   ]
  },
  {
   "cell_type": "markdown",
   "metadata": {},
   "source": [
    "### Save the model"
   ]
  },
  {
   "cell_type": "code",
   "execution_count": null,
   "metadata": {},
   "outputs": [],
   "source": [
    "saveKerasModel(model,\"customPaper\")\n",
    "saveStandardModel(inception_transfer,\"customPaper\")"
   ]
  },
  {
   "cell_type": "code",
   "execution_count": null,
   "metadata": {},
   "outputs": [],
   "source": [
    "errors = seeErrors(validation_data_dir,validation_generator,model)"
   ]
  }
 ],
 "metadata": {
  "kernelspec": {
   "display_name": "Python 3",
   "language": "python",
   "name": "python3"
  },
  "language_info": {
   "codemirror_mode": {
    "name": "ipython",
    "version": 3
   },
   "file_extension": ".py",
   "mimetype": "text/x-python",
   "name": "python",
   "nbconvert_exporter": "python",
   "pygments_lexer": "ipython3",
   "version": "3.6.8"
  }
 },
 "nbformat": 4,
 "nbformat_minor": 2
}
