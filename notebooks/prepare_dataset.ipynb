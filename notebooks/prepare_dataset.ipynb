{
 "cells": [
  {
   "cell_type": "markdown",
   "metadata": {},
   "source": [
    "### Load standard libraries\n"
   ]
  },
  {
   "cell_type": "code",
   "execution_count": 3,
   "metadata": {},
   "outputs": [
    {
     "name": "stdout",
     "output_type": "stream",
     "text": [
      "System version\n",
      " 3.7.3 (default, Apr 24 2019, 15:29:51) [MSC v.1915 64 bit (AMD64)]\n"
     ]
    }
   ],
   "source": [
    "import sys\n",
    "print(\"System version\\n\",sys.version)"
   ]
  },
  {
   "cell_type": "code",
   "execution_count": 1,
   "metadata": {
    "scrolled": true
   },
   "outputs": [
    {
     "name": "stderr",
     "output_type": "stream",
     "text": [
      "Using TensorFlow backend.\n"
     ]
    }
   ],
   "source": [
    "import pickle\n",
    "import numpy as np\n",
    "import pandas as pd\n",
    "import csv\n",
    "import json\n",
    "import os\n",
    "import random\n",
    "import shutil\n",
    "from tqdm import tqdm\n",
    "import time\n",
    "\n",
    "from os import listdir, makedirs\n",
    "from os.path import join, exists, expanduser\n",
    "\n",
    "import tensorflow as tf\n",
    "from keras import applications\n",
    "from keras.preprocessing.image import ImageDataGenerator\n",
    "from keras import optimizers\n",
    "from keras.models import Sequential, Model\n",
    "from keras.layers import Dense, GlobalAveragePooling2D\n",
    "from keras.layers import Activation, Dropout, Flatten, Dense\n",
    "from keras import backend as K\n",
    "\n",
    "from keras_tqdm import TQDMNotebookCallback\n",
    "\n",
    "import matplotlib.pyplot as plt\n",
    "from numpy.random import seed\n",
    "from keras.utils import plot_model\n",
    "\n",
    "from keras import layers\n",
    "from keras import models\n",
    "from keras.callbacks import EarlyStopping\n",
    "\n",
    "import onnxmltools\n",
    "import keras2onnx\n",
    "\n",
    "import sklearn.datasets\n",
    "import sklearn.model_selection\n",
    "import keras\n",
    "from sklearn.metrics import accuracy_score\n",
    "\n",
    "import cv2"
   ]
  },
  {
   "cell_type": "markdown",
   "metadata": {},
   "source": [
    "### Run general function notebook"
   ]
  },
  {
   "cell_type": "code",
   "execution_count": 2,
   "metadata": {},
   "outputs": [],
   "source": [
    "%run ./general_functions.ipynb"
   ]
  },
  {
   "cell_type": "code",
   "execution_count": 3,
   "metadata": {},
   "outputs": [
    {
     "name": "stdout",
     "output_type": "stream",
     "text": [
      "\n",
      "Your Device List:\n",
      " [name: \"/device:CPU:0\"\n",
      "device_type: \"CPU\"\n",
      "memory_limit: 268435456\n",
      "locality {\n",
      "}\n",
      "incarnation: 17184768617109123558\n",
      ", name: \"/device:GPU:0\"\n",
      "device_type: \"GPU\"\n",
      "memory_limit: 6700198133\n",
      "locality {\n",
      "  bus_id: 1\n",
      "  links {\n",
      "  }\n",
      "}\n",
      "incarnation: 3401646839610310401\n",
      "physical_device_desc: \"device: 0, name: GeForce GTX 1070, pci bus id: 0000:01:00.0, compute capability: 6.1\"\n",
      "]\n"
     ]
    }
   ],
   "source": [
    "#Check the hardware for the training\n",
    "from tensorflow.python.client import device_lib\n",
    "print(\"\\nYour Device List:\\n\",device_lib.list_local_devices())"
   ]
  },
  {
   "cell_type": "code",
   "execution_count": null,
   "metadata": {},
   "outputs": [],
   "source": [
    "#Set the global seed for all the experiments\n",
    "seed(4292)"
   ]
  },
  {
   "cell_type": "markdown",
   "metadata": {},
   "source": [
    "### Load and prepare the dataset"
   ]
  },
  {
   "cell_type": "code",
   "execution_count": 9,
   "metadata": {},
   "outputs": [],
   "source": [
    "def prepareConstants(img_width = None ,img_height = None,img_size = None,batch_size = None):\n",
    "    \n",
    "    if(img_width is None):\n",
    "        img_width = 224\n",
    "    if(img_height is None):\n",
    "        img_height = 224\n",
    "    if(img_size is None):\n",
    "        img_size = 224\n",
    "    if(batch_size is None):\n",
    "        batch_size = 16\n",
    "    \n",
    "    print(\"\\nImage Width:\",img_width)\n",
    "    print(\"Image Height:\",img_height)\n",
    "    print(\"Image Size:\",img_size)\n",
    "    print(\"Batch Size:\",batch_size)\n",
    "    \n",
    "    return img_width, img_height, img_size, batch_size"
   ]
  },
  {
   "cell_type": "code",
   "execution_count": 13,
   "metadata": {},
   "outputs": [],
   "source": [
    "def setDirs(train_data_dir = None, validation_data_dir = None):\n",
    "    \n",
    "    if(train_data_dir is None):\n",
    "        train_data_dir = '../fruits-360/Training/'\n",
    "    \n",
    "    if(validation_data_dir is None):\n",
    "        validation_data_dir = '../fruits-360/Test/'\n",
    "    \n",
    "    print(\"\\nTrain dir:\",train_data_dir)\n",
    "    print(\"Test dir:\",validation_data_dir)\n",
    "    \n",
    "    return train_data_dir, validation_data_dir"
   ]
  },
  {
   "cell_type": "code",
   "execution_count": 1,
   "metadata": {},
   "outputs": [
    {
     "ename": "SyntaxError",
     "evalue": "invalid syntax (<ipython-input-1-c276909f0303>, line 24)",
     "output_type": "error",
     "traceback": [
      "\u001b[1;36m  File \u001b[1;32m\"<ipython-input-1-c276909f0303>\"\u001b[1;36m, line \u001b[1;32m24\u001b[0m\n\u001b[1;33m    class_mode='categorical')\u001b[0m\n\u001b[1;37m             ^\u001b[0m\n\u001b[1;31mSyntaxError\u001b[0m\u001b[1;31m:\u001b[0m invalid syntax\n"
     ]
    }
   ],
   "source": [
    "def prepareDatasets(train_data_dir,validation_data_dir,img_height,img_width,batch_size, augmentation = False, test_train_aug = True):\n",
    "    \n",
    "    train_datagen = ImageDataGenerator(\n",
    "        rescale=1. / 255,\n",
    "        shear_range=0.2,\n",
    "        zoom_range=0.2,\n",
    "        horizontal_flip=True)\n",
    "    \n",
    "    test_datagen = ImageDataGenerator(rescale=1. / 255) \n",
    "\n",
    "    print(\"\\nImport Trainingset\")\n",
    "    train_generator = train_datagen.flow_from_directory(\n",
    "        train_data_dir,\n",
    "        target_size=(img_height, img_width),\n",
    "        batch_size=batch_size,\n",
    "        class_mode='categorical')\n",
    "\n",
    "    print(\"\\nImport Validationset\")\n",
    "    validation_generator = test_datagen.flow_from_directory(\n",
    "        validation_data_dir,\n",
    "        target_size=(img_height, img_width),\n",
    "        batch_size=batch_size,\n",
    "        shuffle = False,\n",
    "        class_mode='categorical')\n",
    "    \n",
    "    if(augmentation is True):\n",
    "        datagen = ImageDataGenerator(\n",
    "            featurewise_center=False,  # set input mean to 0 over the dataset\n",
    "            samplewise_center=False,  # set each sample mean to 0\n",
    "            featurewise_std_normalization=False,  # divide inputs by std of the dataset\n",
    "            samplewise_std_normalization=False,  # divide each input by its std\n",
    "            zca_whitening=False,  # apply ZCA whitening\n",
    "            rotation_range=10,  # randomly rotate images in the range (degrees, 0 to 180)\n",
    "            zoom_range = 0.1, # Randomly zoom image \n",
    "            width_shift_range=0.2,  # randomly shift images horizontally (fraction of total width)\n",
    "            height_shift_range=0.2,  # randomly shift images vertically (fraction of total height)\n",
    "            horizontal_flip=True,  # randomly flip images\n",
    "            vertical_flip=False)  # randomly flip images\n",
    "        \n",
    "        if(test_train_aug is True):\n",
    "            datagen.fit(train_generator)\n",
    "            datagen.fit(validation_generator)\n",
    "            print(\"\\nTrain and test datasets augmented\")\n",
    "        elif(test_train_aug is False):\n",
    "            datagen.fit(train_generator)\n",
    "            print(\"\\nTrain dataset augmented\")\n",
    "    \n",
    "    return train_generator, validation_generator"
   ]
  },
  {
   "cell_type": "code",
   "execution_count": 18,
   "metadata": {},
   "outputs": [],
   "source": [
    "def checkData(train_generator = None,validation_generator = None):\n",
    "    \n",
    "    if(train_generator is not None):\n",
    "        nb_train_samples = train_generator.n\n",
    "        print(\"\\nTrain Samples: \",nb_train_samples)\n",
    "        train_classes = max(train_generator.classes + 1 )\n",
    "        print(\"Train Classes:\", train_classes)\n",
    "        print(\"Class Indexes:\\n\",train_generator.class_indices)\n",
    "        \n",
    "    if(validation_generator is not None):\n",
    "        nb_validation_samples = validation_generator.n\n",
    "        print(\"\\nValidation Samples: \",nb_validation_samples)\n",
    "        validation_classes = max(validation_generator.classes + 1 )\n",
    "        print(\"\\nTrain Classes:\", validation_classes)\n",
    "        print(\"\\nClass Indexes:\\n\",validation_generator.class_indices)\n",
    "        \n",
    "    return nb_train_samples, train_classes, nb_validation_samples, validation_classes\n",
    "        "
   ]
  }
 ],
 "metadata": {
  "kernelspec": {
   "display_name": "Python 3",
   "language": "python",
   "name": "python3"
  },
  "language_info": {
   "codemirror_mode": {
    "name": "ipython",
    "version": 3
   },
   "file_extension": ".py",
   "mimetype": "text/x-python",
   "name": "python",
   "nbconvert_exporter": "python",
   "pygments_lexer": "ipython3",
   "version": "3.6.8"
  },
  "varInspector": {
   "cols": {
    "lenName": 16,
    "lenType": 16,
    "lenVar": 40
   },
   "kernels_config": {
    "python": {
     "delete_cmd_postfix": "",
     "delete_cmd_prefix": "del ",
     "library": "var_list.py",
     "varRefreshCmd": "print(var_dic_list())"
    },
    "r": {
     "delete_cmd_postfix": ") ",
     "delete_cmd_prefix": "rm(",
     "library": "var_list.r",
     "varRefreshCmd": "cat(var_dic_list()) "
    }
   },
   "types_to_exclude": [
    "module",
    "function",
    "builtin_function_or_method",
    "instance",
    "_Feature"
   ],
   "window_display": false
  }
 },
 "nbformat": 4,
 "nbformat_minor": 2
}
