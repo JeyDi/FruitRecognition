{
 "cells": [
  {
   "cell_type": "markdown",
   "metadata": {},
   "source": [
    "# Dataset Import, Analyisis"
   ]
  },
  {
   "cell_type": "markdown",
   "metadata": {},
   "source": [
    "Dataset: https://www.kaggle.com/moltean/fruits  \n",
    "High quality dataset of images containing fruits"
   ]
  },
  {
   "cell_type": "markdown",
   "metadata": {},
   "source": [
    "### Import libraries"
   ]
  },
  {
   "cell_type": "code",
   "execution_count": 10,
   "metadata": {},
   "outputs": [],
   "source": [
    "import pandas as pd\n",
    "import numpy as np\n",
    "import os\n",
    "import glob\n",
    "import cv2\n",
    "from tqdm import tqdm\n",
    "from joblib import Parallel, delayed\n",
    "import multiprocessing\n",
    "import gc\n",
    "import pickle"
   ]
  },
  {
   "cell_type": "markdown",
   "metadata": {},
   "source": [
    "### Define constants"
   ]
  },
  {
   "cell_type": "code",
   "execution_count": 11,
   "metadata": {},
   "outputs": [],
   "source": [
    "DATASET_PATH = \"..\\\\fruits-360\"\n",
    "\n",
    "TRAIN_DATA = '..\\\\fruits-360\\\\Training'\n",
    "VALIDATION_DATA = '..\\\\fruits-360\\\\Test'\n",
    "TEST_MULTIPLE = '..\\\\fruits-360\\\\test-multiple_fruits'\n",
    "\n",
    "\n",
    "# dimensions of images.\n",
    "IMG_WIDTH, IMG_HEIGHT = 224, 224\n",
    "\n",
    "FRUIT_IMAGES = []\n",
    "LABELS = []\n"
   ]
  },
  {
   "cell_type": "markdown",
   "metadata": {},
   "source": [
    "### Save Object Function (Pickle)"
   ]
  },
  {
   "cell_type": "code",
   "execution_count": 12,
   "metadata": {},
   "outputs": [],
   "source": [
    "def save_object(obj, filename):\n",
    "    \"\"\"Write a python object to file system using pickle\"\"\"\n",
    "    import pickle\n",
    "    \n",
    "    with open(filename, 'wb') as output:  # Overwrites any existing file.\n",
    "        \n",
    "        pickle.dump(obj, output, pickle.HIGHEST_PROTOCOL)\n",
    "        \n",
    "        print(\"file:\",obj.name,\"written\")\n",
    "        \n",
    "    return True"
   ]
  },
  {
   "cell_type": "markdown",
   "metadata": {},
   "source": [
    "### Read Object Function (Pickle)"
   ]
  },
  {
   "cell_type": "code",
   "execution_count": 13,
   "metadata": {},
   "outputs": [],
   "source": [
    "def read_object(filename):\n",
    "    \"\"\"Read a pickle object file from file system\"\"\"\n",
    "    import pickle\n",
    "    \n",
    "    with open(filename, 'rb') as input:\n",
    "        obj = pickle.load(input)\n",
    "        \n",
    "        print(\"Loaded:\",obj.name)"
   ]
  },
  {
   "cell_type": "markdown",
   "metadata": {},
   "source": [
    "### Get the fuits and labels into python objects"
   ]
  },
  {
   "cell_type": "code",
   "execution_count": 20,
   "metadata": {},
   "outputs": [],
   "source": [
    "def countFruits(dataset_type = \"training\"):\n",
    "    \"\"\"Count how many fruit there are into the trainingset\"\"\"\n",
    "    fruit_images = FRUIT_IMAGES\n",
    "    labels = LABELS\n",
    "    \n",
    "    num_cores = multiprocessing.cpu_count()\n",
    "    \n",
    "    if dataset_type.strip().lower() == (\"training\" or \"trainingset\" or \"dataset\"):\n",
    "        path = TRAIN_DATA\n",
    "    elif dataset_type.strip().lower() == (\"test\" or \"validation\"):\n",
    "        path = VALIDATION_DATA\n",
    "    elif dataset_type.strip().lower() == \"multiple\":\n",
    "        path = TEST_MULTIPLE\n",
    "    else:\n",
    "        print(\"Error, please specify a correct dataset type you want to count\")\n",
    "    \n",
    "    count_images = 0\n",
    "    print(\"Searching in the path:\",path)\n",
    "    \n",
    "    for f in tqdm(glob.glob(os.path.join(path,\"*\"))):\n",
    "\n",
    "        p = os.path.join(f,\"*.jpg\")\n",
    "\n",
    "        for image_path in glob.glob(p):\n",
    "            \n",
    "            count_images += 1\n",
    "\n",
    "    return count_images"
   ]
  },
  {
   "cell_type": "code",
   "execution_count": 15,
   "metadata": {},
   "outputs": [],
   "source": [
    "def getFruits():\n",
    "    \"\"\"Get the fruits and labels obtained from the dataset into python objects\"\"\"\n",
    "    \n",
    "    fruit_images = FRUIT_IMAGES\n",
    "    labels = LABELS\n",
    "    path = TRAIN_DATA\n",
    "\n",
    "    for f in tqdm(glob.glob(os.path.join(path,\"*\"))):\n",
    "\n",
    "        p = os.path.join(f,\"*.jpg\")\n",
    "\n",
    "        for image_path in glob.glob(p):\n",
    "\n",
    "            image = cv2.imread(image_path, cv2.IMREAD_COLOR)\n",
    "            image = cv2.resize(image, (IMG_WIDTH, IMG_HEIGHT))\n",
    "            image = cv2.cvtColor(image, cv2.COLOR_RGB2BGR)\n",
    "\n",
    "            fruit_images.append(image)\n",
    "            labels.append(f)\n",
    "    \n",
    "    \n",
    "    print(\"Image vector created, try to create np.array with images\")\n",
    "    fruit_images = np.array(fruit_images)\n",
    "    labels = np.array(labels)\n",
    "    \n",
    "    \n",
    "    # Save the memory to disk and free the memory\n",
    "    \n",
    "    save_object(fruit_images, '../tmp/fruit_images.pkl')\n",
    "    save_object(labels, '../tmp/labels.pkl')\n",
    "    \n",
    "    #Free the memory\n",
    "    gc.collect()\n",
    "    \n",
    "    print(\"Job finished\")\n",
    "    \n",
    "    return True"
   ]
  },
  {
   "cell_type": "code",
   "execution_count": 23,
   "metadata": {},
   "outputs": [
    {
     "name": "stdout",
     "output_type": "stream",
     "text": [
      "Searching in the path: ..\\fruits-360\\Training\n"
     ]
    },
    {
     "name": "stderr",
     "output_type": "stream",
     "text": [
      "100%|███████████████████████████████████████████████████████████████████████████████| 103/103 [00:00<00:00, 353.91it/s]\n"
     ]
    },
    {
     "name": "stdout",
     "output_type": "stream",
     "text": [
      "number of images inside the trainingset: 53177\n"
     ]
    }
   ],
   "source": [
    "number_images = countFruits(\"training\")\n",
    "print(\"number of images inside the trainingset:\", number_images)"
   ]
  },
  {
   "cell_type": "code",
   "execution_count": 22,
   "metadata": {},
   "outputs": [
    {
     "name": "stdout",
     "output_type": "stream",
     "text": [
      "Searching in the path: ..\\fruits-360\\Test\n"
     ]
    },
    {
     "name": "stderr",
     "output_type": "stream",
     "text": [
      "100%|███████████████████████████████████████████████████████████████████████████████| 103/103 [00:00<00:00, 786.27it/s]\n"
     ]
    },
    {
     "name": "stdout",
     "output_type": "stream",
     "text": [
      "number of images inside the validation dataset: 17845\n"
     ]
    }
   ],
   "source": [
    "number_images = countFruits(\"test\")\n",
    "print(\"number of images inside the validation dataset:\", number_images)"
   ]
  },
  {
   "cell_type": "code",
   "execution_count": 24,
   "metadata": {},
   "outputs": [
    {
     "name": "stdout",
     "output_type": "stream",
     "text": [
      "Searching in the path: ..\\fruits-360\\test-multiple_fruits\n"
     ]
    },
    {
     "name": "stderr",
     "output_type": "stream",
     "text": [
      "100%|█████████████████████████████████████████████████████████████████████████████| 106/106 [00:00<00:00, 21205.58it/s]\n"
     ]
    },
    {
     "name": "stdout",
     "output_type": "stream",
     "text": [
      "number of images inside the validation dataset: 0\n"
     ]
    }
   ],
   "source": [
    "number_images = countFruits(\"multiple\")\n",
    "print(\"number of images inside the validation dataset:\", number_images)"
   ]
  },
  {
   "cell_type": "code",
   "execution_count": 8,
   "metadata": {},
   "outputs": [
    {
     "name": "stderr",
     "output_type": "stream",
     "text": [
      "100%|████████████████████████████████████████████████████████████████████████████████| 103/103 [04:25<00:00,  2.63s/it]\n"
     ]
    },
    {
     "name": "stdout",
     "output_type": "stream",
     "text": [
      "Image vector created, try to create np.array with images\n",
      "file written\n",
      "file written\n",
      "Job finished\n"
     ]
    },
    {
     "data": {
      "text/plain": [
       "True"
      ]
     },
     "execution_count": 8,
     "metadata": {},
     "output_type": "execute_result"
    }
   ],
   "source": [
    "getFruits()"
   ]
  }
 ],
 "metadata": {
  "kernelspec": {
   "display_name": "Python 3",
   "language": "python",
   "name": "python3"
  },
  "language_info": {
   "codemirror_mode": {
    "name": "ipython",
    "version": 3
   },
   "file_extension": ".py",
   "mimetype": "text/x-python",
   "name": "python",
   "nbconvert_exporter": "python",
   "pygments_lexer": "ipython3",
   "version": "3.7.3"
  },
  "varInspector": {
   "cols": {
    "lenName": 16,
    "lenType": 16,
    "lenVar": 40
   },
   "kernels_config": {
    "python": {
     "delete_cmd_postfix": "",
     "delete_cmd_prefix": "del ",
     "library": "var_list.py",
     "varRefreshCmd": "print(var_dic_list())"
    },
    "r": {
     "delete_cmd_postfix": ") ",
     "delete_cmd_prefix": "rm(",
     "library": "var_list.r",
     "varRefreshCmd": "cat(var_dic_list()) "
    }
   },
   "types_to_exclude": [
    "module",
    "function",
    "builtin_function_or_method",
    "instance",
    "_Feature"
   ],
   "window_display": false
  }
 },
 "nbformat": 4,
 "nbformat_minor": 2
}
