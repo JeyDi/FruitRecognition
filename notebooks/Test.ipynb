{
 "cells": [
  {
   "cell_type": "code",
   "execution_count": 5,
   "metadata": {},
   "outputs": [],
   "source": [
    "\n",
    "import os\n",
    "os.environ['KAGGLE_USERNAME'] = \"jeydi42\"\n",
    "os.environ['KAGGLE_KEY'] = \"149cd4581c216c7939d3b113cf125b12\""
   ]
  },
  {
   "cell_type": "code",
   "execution_count": 8,
   "metadata": {},
   "outputs": [],
   "source": [
    "import kaggle\n",
    "datasetName = 'moltean/fruits'\n",
    "downloadPath = './'\n",
    "kaggle.api.authenticate()\n",
    "kaggle.api.dataset_download_files(datasetName, path=downloadPath, unzip=True)\n",
    "#kaggle datasets download -d moltean/fruits"
   ]
  },
  {
   "cell_type": "code",
   "execution_count": null,
   "metadata": {},
   "outputs": [],
   "source": []
  }
 ],
 "metadata": {
  "kernelspec": {
   "display_name": "Python 3",
   "language": "python",
   "name": "python3"
  },
  "language_info": {
   "codemirror_mode": {
    "name": "ipython",
    "version": 3
   },
   "file_extension": ".py",
   "mimetype": "text/x-python",
   "name": "python",
   "nbconvert_exporter": "python",
   "pygments_lexer": "ipython3",
   "version": "3.7.3"
  }
 },
 "nbformat": 4,
 "nbformat_minor": 2
}
