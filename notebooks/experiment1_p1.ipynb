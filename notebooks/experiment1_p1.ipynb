{
 "cells": [
  {
   "cell_type": "markdown",
   "metadata": {},
   "source": [
    "# Experiment 1\n",
    "---------------\n",
    "Transfer Learning with Keras Resnet50"
   ]
  },
  {
   "cell_type": "markdown",
   "metadata": {},
   "source": [
    "### Load default libraries and prepare the dataset"
   ]
  },
  {
   "cell_type": "code",
   "execution_count": 1,
   "metadata": {},
   "outputs": [
    {
     "name": "stdout",
     "output_type": "stream",
     "text": [
      "System version\n",
      " 3.6.8 |Anaconda, Inc.| (default, Feb 21 2019, 18:30:04) [MSC v.1916 64 bit (AMD64)]\n"
     ]
    },
    {
     "name": "stderr",
     "output_type": "stream",
     "text": [
      "Using TensorFlow backend.\n"
     ]
    },
    {
     "name": "stdout",
     "output_type": "stream",
     "text": [
      "\n",
      "Your Device List:\n",
      " [name: \"/device:CPU:0\"\n",
      "device_type: \"CPU\"\n",
      "memory_limit: 268435456\n",
      "locality {\n",
      "}\n",
      "incarnation: 8130815154203555887\n",
      ", name: \"/device:GPU:0\"\n",
      "device_type: \"GPU\"\n",
      "memory_limit: 6700198133\n",
      "locality {\n",
      "  bus_id: 1\n",
      "  links {\n",
      "  }\n",
      "}\n",
      "incarnation: 10377698487346594403\n",
      "physical_device_desc: \"device: 0, name: GeForce GTX 1070, pci bus id: 0000:01:00.0, compute capability: 6.1\"\n",
      "]\n"
     ]
    }
   ],
   "source": [
    "%run ./prepare_dataset.ipynb"
   ]
  },
  {
   "cell_type": "code",
   "execution_count": 2,
   "metadata": {},
   "outputs": [
    {
     "name": "stdout",
     "output_type": "stream",
     "text": [
      "\n",
      "Image Width: 224\n",
      "Image Height: 224\n",
      "Image Size: 224\n",
      "Batch Size: 16\n",
      "\n",
      "Train dir: ../fruits-360/Training/\n",
      "Test dir: ../fruits-360/Test/\n",
      "\n",
      "Import Trainingset\n",
      "Found 53177 images belonging to 103 classes.\n",
      "\n",
      "Import Validationset\n",
      "Found 17845 images belonging to 103 classes.\n",
      "\n",
      "Train Samples:  53177\n",
      "Train Classes: 103\n",
      "Class Indexes:\n",
      " {'Apple Braeburn': 0, 'Apple Crimson Snow': 1, 'Apple Golden 1': 2, 'Apple Golden 2': 3, 'Apple Golden 3': 4, 'Apple Granny Smith': 5, 'Apple Pink Lady': 6, 'Apple Red 1': 7, 'Apple Red 2': 8, 'Apple Red 3': 9, 'Apple Red Delicious': 10, 'Apple Red Yellow 1': 11, 'Apple Red Yellow 2': 12, 'Apricot': 13, 'Avocado': 14, 'Avocado ripe': 15, 'Banana': 16, 'Banana Lady Finger': 17, 'Banana Red': 18, 'Cactus fruit': 19, 'Cantaloupe 1': 20, 'Cantaloupe 2': 21, 'Carambula': 22, 'Cherry 1': 23, 'Cherry 2': 24, 'Cherry Rainier': 25, 'Cherry Wax Black': 26, 'Cherry Wax Red': 27, 'Cherry Wax Yellow': 28, 'Chestnut': 29, 'Clementine': 30, 'Cocos': 31, 'Dates': 32, 'Granadilla': 33, 'Grape Blue': 34, 'Grape Pink': 35, 'Grape White': 36, 'Grape White 2': 37, 'Grape White 3': 38, 'Grape White 4': 39, 'Grapefruit Pink': 40, 'Grapefruit White': 41, 'Guava': 42, 'Hazelnut': 43, 'Huckleberry': 44, 'Kaki': 45, 'Kiwi': 46, 'Kohlrabi': 47, 'Kumquats': 48, 'Lemon': 49, 'Lemon Meyer': 50, 'Limes': 51, 'Lychee': 52, 'Mandarine': 53, 'Mango': 54, 'Mangostan': 55, 'Maracuja': 56, 'Melon Piel de Sapo': 57, 'Mulberry': 58, 'Nectarine': 59, 'Orange': 60, 'Papaya': 61, 'Passion Fruit': 62, 'Peach': 63, 'Peach 2': 64, 'Peach Flat': 65, 'Pear': 66, 'Pear Abate': 67, 'Pear Kaiser': 68, 'Pear Monster': 69, 'Pear Red': 70, 'Pear Williams': 71, 'Pepino': 72, 'Pepper Green': 73, 'Pepper Red': 74, 'Pepper Yellow': 75, 'Physalis': 76, 'Physalis with Husk': 77, 'Pineapple': 78, 'Pineapple Mini': 79, 'Pitahaya Red': 80, 'Plum': 81, 'Plum 2': 82, 'Plum 3': 83, 'Pomegranate': 84, 'Pomelo Sweetie': 85, 'Quince': 86, 'Rambutan': 87, 'Raspberry': 88, 'Redcurrant': 89, 'Salak': 90, 'Strawberry': 91, 'Strawberry Wedge': 92, 'Tamarillo': 93, 'Tangelo': 94, 'Tomato 1': 95, 'Tomato 2': 96, 'Tomato 3': 97, 'Tomato 4': 98, 'Tomato Cherry Red': 99, 'Tomato Maroon': 100, 'Tomato Yellow': 101, 'Walnut': 102}\n",
      "\n",
      "Validation Samples:  17845\n",
      "\n",
      "Train Classes: 103\n",
      "\n",
      "Class Indexes:\n",
      " {'Apple Braeburn': 0, 'Apple Crimson Snow': 1, 'Apple Golden 1': 2, 'Apple Golden 2': 3, 'Apple Golden 3': 4, 'Apple Granny Smith': 5, 'Apple Pink Lady': 6, 'Apple Red 1': 7, 'Apple Red 2': 8, 'Apple Red 3': 9, 'Apple Red Delicious': 10, 'Apple Red Yellow 1': 11, 'Apple Red Yellow 2': 12, 'Apricot': 13, 'Avocado': 14, 'Avocado ripe': 15, 'Banana': 16, 'Banana Lady Finger': 17, 'Banana Red': 18, 'Cactus fruit': 19, 'Cantaloupe 1': 20, 'Cantaloupe 2': 21, 'Carambula': 22, 'Cherry 1': 23, 'Cherry 2': 24, 'Cherry Rainier': 25, 'Cherry Wax Black': 26, 'Cherry Wax Red': 27, 'Cherry Wax Yellow': 28, 'Chestnut': 29, 'Clementine': 30, 'Cocos': 31, 'Dates': 32, 'Granadilla': 33, 'Grape Blue': 34, 'Grape Pink': 35, 'Grape White': 36, 'Grape White 2': 37, 'Grape White 3': 38, 'Grape White 4': 39, 'Grapefruit Pink': 40, 'Grapefruit White': 41, 'Guava': 42, 'Hazelnut': 43, 'Huckleberry': 44, 'Kaki': 45, 'Kiwi': 46, 'Kohlrabi': 47, 'Kumquats': 48, 'Lemon': 49, 'Lemon Meyer': 50, 'Limes': 51, 'Lychee': 52, 'Mandarine': 53, 'Mango': 54, 'Mangostan': 55, 'Maracuja': 56, 'Melon Piel de Sapo': 57, 'Mulberry': 58, 'Nectarine': 59, 'Orange': 60, 'Papaya': 61, 'Passion Fruit': 62, 'Peach': 63, 'Peach 2': 64, 'Peach Flat': 65, 'Pear': 66, 'Pear Abate': 67, 'Pear Kaiser': 68, 'Pear Monster': 69, 'Pear Red': 70, 'Pear Williams': 71, 'Pepino': 72, 'Pepper Green': 73, 'Pepper Red': 74, 'Pepper Yellow': 75, 'Physalis': 76, 'Physalis with Husk': 77, 'Pineapple': 78, 'Pineapple Mini': 79, 'Pitahaya Red': 80, 'Plum': 81, 'Plum 2': 82, 'Plum 3': 83, 'Pomegranate': 84, 'Pomelo Sweetie': 85, 'Quince': 86, 'Rambutan': 87, 'Raspberry': 88, 'Redcurrant': 89, 'Salak': 90, 'Strawberry': 91, 'Strawberry Wedge': 92, 'Tamarillo': 93, 'Tangelo': 94, 'Tomato 1': 95, 'Tomato 2': 96, 'Tomato 3': 97, 'Tomato 4': 98, 'Tomato Cherry Red': 99, 'Tomato Maroon': 100, 'Tomato Yellow': 101, 'Walnut': 102}\n"
     ]
    },
    {
     "data": {
      "text/plain": [
       "(53177, 103, 17845, 103)"
      ]
     },
     "execution_count": 2,
     "metadata": {},
     "output_type": "execute_result"
    }
   ],
   "source": [
    "img_width, img_height, img_size, batch_size =  prepareConstants(224 ,224,224,16)\n",
    "train_data_dir, validation_data_dir = setDirs()\n",
    "train_generator, validation_generator = prepareDatasets(train_data_dir,validation_data_dir,img_width,img_height,batch_size)\n",
    "checkData(train_generator,validation_generator)"
   ]
  },
  {
   "cell_type": "markdown",
   "metadata": {},
   "source": [
    "### Load the ResNet 50 Pretrained model from Keras"
   ]
  },
  {
   "cell_type": "code",
   "execution_count": null,
   "metadata": {},
   "outputs": [],
   "source": [
    "#import inception with pre-trained weights. do not include fully #connected layers\n",
    "inception_base = applications.ResNet50(weights='imagenet', include_top=False, input_shape=(img_width, img_height, 3))"
   ]
  },
  {
   "cell_type": "markdown",
   "metadata": {},
   "source": [
    "### Test 1\n",
    "Add layers to resnet with image net with weights  \n",
    "We load the ResNet-50 with the ImageNet weights. We remove the top so that we can add our own layer according to the number of our classes. We then add our own layers to complete the model architecture."
   ]
  },
  {
   "cell_type": "code",
   "execution_count": null,
   "metadata": {},
   "outputs": [],
   "source": [
    "# add a global spatial average pooling layer\n",
    "x = inception_base.output\n",
    "x = GlobalAveragePooling2D()(x)\n",
    "\n",
    "# add a fully-connected layer\n",
    "x = Dense(512, activation='relu')(x)\n",
    "\n",
    "# and a fully connected output/classification layer\n",
    "predictions = Dense(103, activation='softmax')(x)\n",
    "\n",
    "# create the full network so we can train on it\n",
    "inception_transfer = Model(inputs=inception_base.input, outputs=predictions)"
   ]
  },
  {
   "cell_type": "code",
   "execution_count": null,
   "metadata": {},
   "outputs": [],
   "source": [
    "inception_transfer.compile(loss='categorical_crossentropy',\n",
    "              optimizer=optimizers.SGD(lr=1e-4, momentum=0.9),\n",
    "              metrics=['accuracy'])\n",
    "\n",
    "inception_transfer.summary()"
   ]
  },
  {
   "cell_type": "markdown",
   "metadata": {},
   "source": [
    "### Train Test 1"
   ]
  },
  {
   "cell_type": "code",
   "execution_count": null,
   "metadata": {},
   "outputs": [],
   "source": [
    "start_time = time.time()\n",
    "\n",
    "with tf.device(\"/device:GPU:0\"):\n",
    "    history_pretrained = inception_transfer.fit_generator(\n",
    "                                train_generator,\n",
    "                                steps_per_epoch=train_generator.samples/train_generator.batch_size ,\n",
    "                                epochs=5,\n",
    "                                shuffle = True,\n",
    "                                verbose = 0,\n",
    "                                validation_data=validation_generator,\n",
    "                                validation_steps=validation_generator.samples/validation_generator.batch_size\n",
    "                                )\n",
    "    \n",
    "print(\"\\nTraining completed\")\n",
    "\n",
    "elapsed_time = time.time() - start_time\n",
    "print(\"Time:\",elapsed_time) "
   ]
  },
  {
   "cell_type": "markdown",
   "metadata": {},
   "source": [
    "After the training Test 1 model, this are the results  \n",
    "val_loss: 0.0089 - val_acc: 0.9969"
   ]
  },
  {
   "cell_type": "markdown",
   "metadata": {},
   "source": [
    "### Test 2\n",
    "Add layers to resnet without weights and default pretrained model"
   ]
  },
  {
   "cell_type": "code",
   "execution_count": null,
   "metadata": {},
   "outputs": [],
   "source": [
    "#import inception with pre-trained weights. do not include fully #connected layers\n",
    "inception_base_vanilla = applications.ResNet50(weights=None, include_top=False)\n",
    "\n",
    "# add a global spatial average pooling layer\n",
    "x = inception_base_vanilla.output\n",
    "\n",
    "x = GlobalAveragePooling2D()(x)\n",
    "\n",
    "# add a fully-connected layer\n",
    "x = Dense(512, activation='relu')(x)\n",
    "\n",
    "# and a fully connected output/classification layer\n",
    "predictions = Dense(103, activation='softmax')(x)\n",
    "\n",
    "# create the full network so we can train on it\n",
    "inception_transfer_vanilla = Model(inputs=inception_base_vanilla.input, outputs=predictions)"
   ]
  },
  {
   "cell_type": "code",
   "execution_count": null,
   "metadata": {},
   "outputs": [],
   "source": [
    "inception_transfer_vanilla.compile(loss='categorical_crossentropy',\n",
    "              optimizer=optimizers.SGD(lr=1e-4, momentum=0.9),\n",
    "              metrics=['accuracy'])\n"
   ]
  },
  {
   "cell_type": "markdown",
   "metadata": {},
   "source": [
    "### Train Test 2"
   ]
  },
  {
   "cell_type": "code",
   "execution_count": null,
   "metadata": {},
   "outputs": [],
   "source": [
    "start_time = time.time()\n",
    "\n",
    "with tf.device(\"/device:GPU:0\"):\n",
    "    history_vanilla = inception_transfer_vanilla.fit_generator(\n",
    "    train_generator,\n",
    "    steps_per_epoch=train_generator.samples/train_generator.batch_size,\n",
    "    epochs=5,\n",
    "    shuffle = True,\n",
    "    verbose = 0,\n",
    "    validation_data = validation_generator,\n",
    "    validation_steps=validation_generator.samples/validation_generator.batch_size)\n",
    "\n",
    "print(\"\\nTraining completed\")\n",
    "\n",
    "elapsed_time = time.time() - start_time\n",
    "print(\"Time:\",elapsed_time) "
   ]
  },
  {
   "cell_type": "markdown",
   "metadata": {},
   "source": [
    "After the training Test 2 model, this are the results  \n",
    "val_loss: 0.0973 - val_acc: 0.9745"
   ]
  },
  {
   "cell_type": "markdown",
   "metadata": {},
   "source": [
    "### Validate the Results"
   ]
  },
  {
   "cell_type": "code",
   "execution_count": null,
   "metadata": {},
   "outputs": [],
   "source": [
    "# summarize history for accuracy validation\n",
    "\n",
    "plt.plot(history_pretrained.history['val_acc'])\n",
    "plt.plot(history_vanilla.history['val_acc'])\n",
    "plt.title('model validation accuracy')\n",
    "plt.ylabel('accuracy')\n",
    "plt.xlabel('epoch')\n",
    "plt.legend(['Pretrained', 'Vanilla'], loc='upper left')\n",
    "plt.savefig('../plots/exp1_p1_validation_acc.png')\n",
    "plt.show()\n",
    "\n",
    "\n",
    "# summarize history for loss validation\n",
    "plt.plot(history_pretrained.history['val_loss'])\n",
    "plt.plot(history_vanilla.history['val_loss'])\n",
    "plt.title('model validation loss')\n",
    "plt.ylabel('loss')\n",
    "plt.xlabel('epoch')\n",
    "plt.legend(['Pretrained', 'Vanilla'], loc='upper left')\n",
    "plt.savefig('../plots/exp1_p1_validation_loss.png')\n",
    "plt.show()\n",
    "\n",
    "\n",
    "# summarize history for accuracy training\n",
    "plt.plot(history_pretrained.history['acc'])\n",
    "plt.plot(history_vanilla.history['acc'])\n",
    "plt.title('model training accuracy')\n",
    "plt.ylabel('loss')\n",
    "plt.xlabel('epoch')\n",
    "plt.legend(['Pretrained', 'Vanilla'], loc='upper left')\n",
    "plt.savefig('../plots/exp1_p1_training_acc.png')\n",
    "plt.show()\n",
    "\n",
    "\n",
    "\n",
    "# summarize history for accuracy training\n",
    "plt.plot(history_pretrained.history['loss'])\n",
    "plt.plot(history_vanilla.history['loss'])\n",
    "plt.title('model training loss')\n",
    "plt.ylabel('loss')\n",
    "plt.xlabel('epoch')\n",
    "plt.legend(['Pretrained', 'Vanilla'], loc='upper left')\n",
    "plt.savefig('../plots/exp1_p1_training_loss.png')\n",
    "plt.show()\n",
    "\n"
   ]
  },
  {
   "cell_type": "markdown",
   "metadata": {},
   "source": [
    "Save the model with the best result"
   ]
  },
  {
   "cell_type": "markdown",
   "metadata": {},
   "source": [
    "### Save the best model on disk on onnx format and keras format"
   ]
  },
  {
   "cell_type": "code",
   "execution_count": null,
   "metadata": {},
   "outputs": [],
   "source": [
    "model_choose = selectBestResults(history_pretrained,history_vanilla)\n",
    "if(model_choose == 1):\n",
    "    saveKerasModel(inception_transfer,\"resNet50custom\")\n",
    "    saveStandardModel(inception_transfer,\"resNet50custom\")\n",
    "    best_model = inception_transfer\n",
    "if(model_choose == 2):\n",
    "    saveKerasModel(inception_transfer_vanilla,\"resNet50vanilla\")\n",
    "    saveStandardModel(inception_transfer_vanilla,\"resNet50vanilla\")\n",
    "    best_model = inception_transfer_vanilla"
   ]
  },
  {
   "cell_type": "code",
   "execution_count": null,
   "metadata": {},
   "outputs": [],
   "source": [
    "print(\"\\nModel 1: Performance\")\n",
    "print(\"Validation Accuracy max:\",history_pretrained.history['val_acc'][-1])\n",
    "print(\"Validation Loss max:\",history_pretrained.history['val_loss'][-1])\n",
    "print(\"Training Accuracy max:\",history_pretrained.history['acc'][-1])\n",
    "print(\"Training Loss max:\",history_pretrained.history['loss'][-1])"
   ]
  },
  {
   "cell_type": "code",
   "execution_count": null,
   "metadata": {},
   "outputs": [],
   "source": [
    "print(\"\\nModel 2: Performance\")\n",
    "print(\"Validation Accuracy max:\",history_vanilla.history['val_acc'][-1])\n",
    "print(\"Validation Loss max:\",history_vanilla.history['val_loss'][-1])\n",
    "print(\"Training Accuracy max:\",history_vanilla.history['acc'][-1])\n",
    "print(\"Training Loss max:\",history_vanilla.history['loss'][-1])"
   ]
  },
  {
   "cell_type": "code",
   "execution_count": null,
   "metadata": {},
   "outputs": [],
   "source": [
    "# summarize history for accuracy\n",
    "plt.plot(history_pretrained.history['val_acc'])\n",
    "plt.plot(history_pretrained.history['acc'])\n",
    "plt.title('model accuracy')\n",
    "plt.ylabel('accuracy')\n",
    "plt.xlabel('epoch')\n",
    "plt.legend(['Validation','Training'],loc = 'upper left')\n",
    "plt.savefig('../plots/exp1_p1_bestmodel_acc.png')\n",
    "plt.show()\n",
    "\n",
    "\n",
    "# summarize history for loss\n",
    "plt.plot(history_pretrained.history['val_loss'])\n",
    "plt.plot(history_pretrained.history['loss'])\n",
    "plt.title('model loss')\n",
    "plt.ylabel('loss')\n",
    "plt.xlabel('epoch')\n",
    "plt.legend(['Validation','Training'],loc = 'upper left')\n",
    "plt.savefig('../plots/exp1_p1_bestmodel_loss.png')\n",
    "plt.show()\n"
   ]
  },
  {
   "cell_type": "markdown",
   "metadata": {},
   "source": [
    "# See errors for the image predicted"
   ]
  },
  {
   "cell_type": "code",
   "execution_count": null,
   "metadata": {},
   "outputs": [],
   "source": [
    "errors = seeErrors(validation_data_dir,validation_generator,best_model)"
   ]
  }
 ],
 "metadata": {
  "kernelspec": {
   "display_name": "Python 3",
   "language": "python",
   "name": "python3"
  },
  "language_info": {
   "codemirror_mode": {
    "name": "ipython",
    "version": 3
   },
   "file_extension": ".py",
   "mimetype": "text/x-python",
   "name": "python",
   "nbconvert_exporter": "python",
   "pygments_lexer": "ipython3",
   "version": "3.6.8"
  },
  "varInspector": {
   "cols": {
    "lenName": 16,
    "lenType": 16,
    "lenVar": 40
   },
   "kernels_config": {
    "python": {
     "delete_cmd_postfix": "",
     "delete_cmd_prefix": "del ",
     "library": "var_list.py",
     "varRefreshCmd": "print(var_dic_list())"
    },
    "r": {
     "delete_cmd_postfix": ") ",
     "delete_cmd_prefix": "rm(",
     "library": "var_list.r",
     "varRefreshCmd": "cat(var_dic_list()) "
    }
   },
   "types_to_exclude": [
    "module",
    "function",
    "builtin_function_or_method",
    "instance",
    "_Feature"
   ],
   "window_display": false
  }
 },
 "nbformat": 4,
 "nbformat_minor": 2
}
